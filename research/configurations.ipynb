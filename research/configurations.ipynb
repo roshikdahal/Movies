{
 "cells": [
  {
   "cell_type": "code",
   "execution_count": 1,
   "metadata": {},
   "outputs": [
    {
     "data": {
      "text/plain": [
       "'/home/pro/Documents/Movies/research'"
      ]
     },
     "execution_count": 1,
     "metadata": {},
     "output_type": "execute_result"
    }
   ],
   "source": [
    "import os\n",
    "os.getcwd()"
   ]
  },
  {
   "cell_type": "code",
   "execution_count": 2,
   "metadata": {},
   "outputs": [
    {
     "data": {
      "text/plain": [
       "['/home/pro/Documents/Movies/research',\n",
       " '/usr/lib/python310.zip',\n",
       " '/usr/lib/python3.10',\n",
       " '/usr/lib/python3.10/lib-dynload',\n",
       " '',\n",
       " '/home/pro/.local/lib/python3.10/site-packages',\n",
       " '/usr/local/lib/python3.10/dist-packages',\n",
       " '/usr/local/lib/python3.10/dist-packages/movie_grossincome_prediction-0.0.0.1-py3.10.egg',\n",
       " '/usr/local/lib/python3.10/dist-packages/Flask-2.2.2-py3.10.egg',\n",
       " '/usr/local/lib/python3.10/dist-packages/itsdangerous-2.1.2-py3.10.egg',\n",
       " '/usr/local/lib/python3.10/dist-packages/Werkzeug-2.2.2-py3.10.egg',\n",
       " '/usr/local/lib/python3.10/dist-packages/MarkupSafe-2.1.2-py3.10-linux-x86_64.egg',\n",
       " '/usr/lib/python3/dist-packages']"
      ]
     },
     "execution_count": 2,
     "metadata": {},
     "output_type": "execute_result"
    }
   ],
   "source": [
    "import sys\n",
    "sys.path"
   ]
  },
  {
   "cell_type": "code",
   "execution_count": 3,
   "metadata": {},
   "outputs": [],
   "source": [
    "os.chdir(\"..\")"
   ]
  },
  {
   "cell_type": "code",
   "execution_count": 4,
   "metadata": {},
   "outputs": [
    {
     "data": {
      "text/plain": [
       "'/home/pro/Documents/Movies'"
      ]
     },
     "execution_count": 4,
     "metadata": {},
     "output_type": "execute_result"
    }
   ],
   "source": [
    "os.getcwd()"
   ]
  },
  {
   "cell_type": "code",
   "execution_count": 5,
   "metadata": {},
   "outputs": [
    {
     "data": {
      "text/plain": [
       "['config',\n",
       " 'movies_logs',\n",
       " 'setup.py',\n",
       " 'Movies',\n",
       " 'venv',\n",
       " 'movie_grossincome_prediction.egg-info',\n",
       " 'README.md',\n",
       " 'dist',\n",
       " 'LICENCE',\n",
       " 'app.py',\n",
       " 'research',\n",
       " 'Dockerfile',\n",
       " 'build',\n",
       " '.gitignore',\n",
       " '.git',\n",
       " 'requirements.txt']"
      ]
     },
     "execution_count": 5,
     "metadata": {},
     "output_type": "execute_result"
    }
   ],
   "source": [
    "os.listdir()"
   ]
  },
  {
   "cell_type": "code",
   "execution_count": 6,
   "metadata": {},
   "outputs": [],
   "source": [
    "import os\n",
    "from Movies.constants import *\n",
    "from Movies.utils import read_yaml_file\n",
    "\n",
    "config_info = read_yaml_file(CONFIG_FILE_DIR)\n",
    "training_pipeline_config = config_info[TRAINING_PIPELINE_CONFIG_KEY]\n",
    "artifact_dir = os.path.join(CURRENT_WORKING_DIR,\n",
    "                                        training_pipeline_config[TRAINING_PIPELINE_NAME_KEY],\n",
    "                                        training_pipeline_config[TRAINING_PIPELINE_ARTIFACT_DIR_KEY]\n",
    "                                        \n",
    "                                        )"
   ]
  },
  {
   "cell_type": "code",
   "execution_count": 7,
   "metadata": {},
   "outputs": [
    {
     "data": {
      "text/plain": [
       "'/home/pro/Documents/Movies/Movies/artifact'"
      ]
     },
     "execution_count": 7,
     "metadata": {},
     "output_type": "execute_result"
    }
   ],
   "source": [
    "artifact_dir"
   ]
  },
  {
   "cell_type": "code",
   "execution_count": 8,
   "metadata": {},
   "outputs": [],
   "source": [
    "\n",
    "from Movies.config.configurations import Configurations"
   ]
  },
  {
   "cell_type": "code",
   "execution_count": 9,
   "metadata": {},
   "outputs": [],
   "source": [
    "config = Configurations()"
   ]
  },
  {
   "cell_type": "code",
   "execution_count": 10,
   "metadata": {},
   "outputs": [
    {
     "data": {
      "text/plain": [
       "TrainigPipelineConfig(artifact_file_dir='/home/pro/Documents/Movies/Movies/artifact')"
      ]
     },
     "execution_count": 10,
     "metadata": {},
     "output_type": "execute_result"
    }
   ],
   "source": [
    "\n",
    "config.get_training_pepeline_config()"
   ]
  },
  {
   "cell_type": "code",
   "execution_count": 11,
   "metadata": {},
   "outputs": [
    {
     "data": {
      "text/plain": [
       "{'dataset_download_url': 'https://hello.com/data/new/train.csv',\n",
       " 'raw_data_dir': 'raw_data',\n",
       " 'tgz_download_dir': 'tgz_data',\n",
       " 'ingested_dir': 'ingested_data',\n",
       " 'ingested_train_dir': 'train',\n",
       " 'ingested_test_dir': 'test'}"
      ]
     },
     "execution_count": 11,
     "metadata": {},
     "output_type": "execute_result"
    }
   ],
   "source": [
    "\n",
    "config_info[DATA_INGESTION_CONFIG_KEY]"
   ]
  },
  {
   "cell_type": "code",
   "execution_count": 12,
   "metadata": {},
   "outputs": [
    {
     "data": {
      "text/plain": [
       "'https://hello.com/data/new/train.csv'"
      ]
     },
     "execution_count": 12,
     "metadata": {},
     "output_type": "execute_result"
    }
   ],
   "source": [
    "data_ingestion_config = config_info[DATA_INGESTION_CONFIG_KEY]\n",
    "data_ingestion_config[DATA_INGESTION_DOWNLOAD_URL_KEY]"
   ]
  },
  {
   "cell_type": "code",
   "execution_count": 13,
   "metadata": {},
   "outputs": [
    {
     "data": {
      "text/plain": [
       "'raw_data'"
      ]
     },
     "execution_count": 13,
     "metadata": {},
     "output_type": "execute_result"
    }
   ],
   "source": [
    "data_ingestion_config[RAW_DATA_DIR_KEY]"
   ]
  },
  {
   "cell_type": "code",
   "execution_count": 14,
   "metadata": {},
   "outputs": [
    {
     "data": {
      "text/plain": [
       "'data_ingestion'"
      ]
     },
     "execution_count": 14,
     "metadata": {},
     "output_type": "execute_result"
    }
   ],
   "source": [
    "DATA_INGESTION_ARTIFACT_DIR"
   ]
  },
  {
   "cell_type": "code",
   "execution_count": 15,
   "metadata": {},
   "outputs": [
    {
     "data": {
      "text/plain": [
       "TrainigPipelineConfig(artifact_file_dir='/home/pro/Documents/Movies/Movies/artifact')"
      ]
     },
     "execution_count": 15,
     "metadata": {},
     "output_type": "execute_result"
    }
   ],
   "source": [
    "config.get_training_pepeline_config()"
   ]
  },
  {
   "attachments": {},
   "cell_type": "markdown",
   "metadata": {},
   "source": [
    "our folder  structure for data ingestion should be of\n",
    " /home/pro/Documents/Movies/Movies/artifact/dataingestion/timeStap/\n"
   ]
  },
  {
   "cell_type": "code",
   "execution_count": 16,
   "metadata": {},
   "outputs": [
    {
     "data": {
      "text/plain": [
       "'/home/pro/Documents/Movies/Movies/artifact/data_ingestion/2023-02-15-11-02-39'"
      ]
     },
     "execution_count": 16,
     "metadata": {},
     "output_type": "execute_result"
    }
   ],
   "source": [
    "os.path.join(artifact_dir,DATA_INGESTION_ARTIFACT_DIR,get_current_time_stamp())"
   ]
  },
  {
   "attachments": {},
   "cell_type": "markdown",
   "metadata": {},
   "source": [
    "our folder  structure for raw data dir should  be of\n",
    " /home/pro/Documents/Movies/Movies/artifact/dataingestion/timeStap/raw_data\n"
   ]
  },
  {
   "cell_type": "code",
   "execution_count": 17,
   "metadata": {},
   "outputs": [
    {
     "data": {
      "text/plain": [
       "'/home/pro/Documents/Movies/Movies/artifact/data_ingestion/2023-02-15-11-02-39/raw_data'"
      ]
     },
     "execution_count": 17,
     "metadata": {},
     "output_type": "execute_result"
    }
   ],
   "source": [
    "data_ingest = os.path.join(artifact_dir,DATA_INGESTION_ARTIFACT_DIR,get_current_time_stamp())\n",
    "os.path.join(data_ingest,data_ingestion_config[RAW_DATA_DIR_KEY])"
   ]
  },
  {
   "cell_type": "code",
   "execution_count": 18,
   "metadata": {},
   "outputs": [
    {
     "data": {
      "text/plain": [
       "'/home/pro/Documents/Movies/Movies/artifact/data_ingestion/2023-02-15-11-02-39/tgz_data'"
      ]
     },
     "execution_count": 18,
     "metadata": {},
     "output_type": "execute_result"
    }
   ],
   "source": [
    "data_ingest = os.path.join(artifact_dir,DATA_INGESTION_ARTIFACT_DIR,get_current_time_stamp())\n",
    "os.path.join(data_ingest,data_ingestion_config[TGZ_DOWNLOAD_DIR_KEY])"
   ]
  },
  {
   "attachments": {},
   "cell_type": "markdown",
   "metadata": {},
   "source": [
    "our folder  structure for tgz dir should  be of\n",
    " /home/pro/Documents/Movies/Movies/artifact/dataingestion/timeStap/tgz_data"
   ]
  },
  {
   "attachments": {},
   "cell_type": "markdown",
   "metadata": {},
   "source": [
    "our folder  structure for train and test data should  be of</br>\n",
    " /home/pro/Documents/Movies/Movies/artifact/dataingestion/timeStap/ingested_data/train </br>\n",
    " /home/pro/Documents/Movies/Movies/artifact/dataingestion/timeStap/ingested_data/test"
   ]
  },
  {
   "cell_type": "code",
   "execution_count": 19,
   "metadata": {},
   "outputs": [
    {
     "data": {
      "text/plain": [
       "'/home/pro/Documents/Movies/Movies/artifact/data_ingestion/2023-02-15-11-02-39/ingested_data'"
      ]
     },
     "execution_count": 19,
     "metadata": {},
     "output_type": "execute_result"
    }
   ],
   "source": [
    "os.path.join(data_ingest,data_ingestion_config[INGESTED_DIR_KEY])"
   ]
  },
  {
   "cell_type": "code",
   "execution_count": 20,
   "metadata": {},
   "outputs": [],
   "source": [
    "ingest_data = os.path.join(data_ingest,data_ingestion_config[INGESTED_DIR_KEY])"
   ]
  },
  {
   "cell_type": "code",
   "execution_count": 21,
   "metadata": {},
   "outputs": [
    {
     "data": {
      "text/plain": [
       "'/home/pro/Documents/Movies/Movies/artifact/data_ingestion/2023-02-15-11-02-39/ingested_data/train'"
      ]
     },
     "execution_count": 21,
     "metadata": {},
     "output_type": "execute_result"
    }
   ],
   "source": [
    "os.path.join(ingest_data,data_ingestion_config[INGESTED_TRAIN_DIR_KEY])"
   ]
  },
  {
   "cell_type": "code",
   "execution_count": 22,
   "metadata": {},
   "outputs": [
    {
     "data": {
      "text/plain": [
       "'/home/pro/Documents/Movies/Movies/artifact/data_ingestion/2023-02-15-11-02-39/ingested_data/test'"
      ]
     },
     "execution_count": 22,
     "metadata": {},
     "output_type": "execute_result"
    }
   ],
   "source": [
    "os.path.join(ingest_data,data_ingestion_config[INGESTED_TEST_DIR_KEY])"
   ]
  },
  {
   "cell_type": "code",
   "execution_count": 23,
   "metadata": {},
   "outputs": [],
   "source": [
    "config = Configurations()"
   ]
  },
  {
   "cell_type": "code",
   "execution_count": 24,
   "metadata": {},
   "outputs": [
    {
     "data": {
      "text/plain": [
       "DataIngestionConfig(dataset_download_url='https://hello.com/data/new/train.csv', tgz_download_dir='/home/pro/Documents/Movies/Movies/artifact/data_ingestion/2023-02-15-11-02-39/tgz_data', raw_data_dir='/home/pro/Documents/Movies/Movies/artifact/data_ingestion/2023-02-15-11-02-39/raw_data', ingested_train_dir='/home/pro/Documents/Movies/Movies/artifact/data_ingestion/2023-02-15-11-02-39/ingested_data/train', ingested_test_dir='/home/pro/Documents/Movies/Movies/artifact/data_ingestion/2023-02-15-11-02-39/ingested_data/test')"
      ]
     },
     "execution_count": 24,
     "metadata": {},
     "output_type": "execute_result"
    }
   ],
   "source": [
    "config.get_data_ingestion_config()"
   ]
  },
  {
   "cell_type": "code",
   "execution_count": 25,
   "metadata": {},
   "outputs": [],
   "source": [
    "data_ingestion_config = config_info[DATA_INGESTION_CONFIG_KEY]\n",
    "            "
   ]
  },
  {
   "cell_type": "code",
   "execution_count": 26,
   "metadata": {},
   "outputs": [],
   "source": [
    "url_data = data_ingestion_config[DATA_INGESTION_DOWNLOAD_URL_KEY]"
   ]
  },
  {
   "cell_type": "code",
   "execution_count": 27,
   "metadata": {},
   "outputs": [],
   "source": [
    "data_artifact = config.get_training_pepeline_config()\n",
    "            "
   ]
  },
  {
   "cell_type": "code",
   "execution_count": 28,
   "metadata": {},
   "outputs": [
    {
     "data": {
      "text/plain": [
       "TrainigPipelineConfig(artifact_file_dir='/home/pro/Documents/Movies/Movies/artifact')"
      ]
     },
     "execution_count": 28,
     "metadata": {},
     "output_type": "execute_result"
    }
   ],
   "source": [
    "data_artifact"
   ]
  },
  {
   "cell_type": "code",
   "execution_count": 29,
   "metadata": {},
   "outputs": [
    {
     "data": {
      "text/plain": [
       "'/home/pro/Documents/Movies/Movies/artifact'"
      ]
     },
     "execution_count": 29,
     "metadata": {},
     "output_type": "execute_result"
    }
   ],
   "source": [
    "data_artifact.artifact_file_dir"
   ]
  },
  {
   "cell_type": "code",
   "execution_count": 30,
   "metadata": {},
   "outputs": [
    {
     "data": {
      "text/plain": [
       "'/home/pro/Documents/Movies/Movies/artifact/data_ingestion/2023-02-15-11-02-39'"
      ]
     },
     "execution_count": 30,
     "metadata": {},
     "output_type": "execute_result"
    }
   ],
   "source": [
    "data_ingestion_artifact_dir = os.path.join(data_artifact.artifact_file_dir,DATA_INGESTION_ARTIFACT_DIR,get_current_time_stamp())\n",
    "os.path.join(artifact_dir,DATA_INGESTION_ARTIFACT_DIR,get_current_time_stamp())\n"
   ]
  },
  {
   "cell_type": "code",
   "execution_count": 31,
   "metadata": {},
   "outputs": [],
   "source": [
    "raw_data_dir = os.path.join(data_ingestion_artifact_dir,data_ingestion_config[RAW_DATA_DIR_KEY])\n"
   ]
  },
  {
   "cell_type": "code",
   "execution_count": 32,
   "metadata": {},
   "outputs": [],
   "source": [
    "tgz_downloaad_dir = os.path.join(data_ingestion_artifact_dir,data_ingestion_config[TGZ_DOWNLOAD_DIR_KEY])"
   ]
  },
  {
   "cell_type": "code",
   "execution_count": 33,
   "metadata": {},
   "outputs": [],
   "source": [
    "train_data = os.path.join(data_ingestion_artifact_dir,data_ingestion_config[INGESTED_DIR_KEY],data_ingestion_config[INGESTED_TRAIN_DIR_KEY])\n",
    "test_data = os.path.join(data_ingestion_artifact_dir,data_ingestion_config[INGESTED_DIR_KEY],data_ingestion_config[INGESTED_TEST_DIR_KEY])\n"
   ]
  },
  {
   "cell_type": "code",
   "execution_count": 34,
   "metadata": {},
   "outputs": [
    {
     "data": {
      "text/plain": [
       "'/home/pro/Documents/Movies/Movies/artifact/data_ingestion/2023-02-15-11-02-39/ingested_data/train'"
      ]
     },
     "execution_count": 34,
     "metadata": {},
     "output_type": "execute_result"
    }
   ],
   "source": [
    "train_data"
   ]
  },
  {
   "cell_type": "code",
   "execution_count": 35,
   "metadata": {},
   "outputs": [
    {
     "data": {
      "text/plain": [
       "'/home/pro/Documents/Movies/Movies/artifact/data_ingestion/2023-02-15-11-02-39/ingested_data/test'"
      ]
     },
     "execution_count": 35,
     "metadata": {},
     "output_type": "execute_result"
    }
   ],
   "source": [
    "test_data"
   ]
  },
  {
   "cell_type": "code",
   "execution_count": 36,
   "metadata": {},
   "outputs": [
    {
     "data": {
      "text/plain": [
       "DataIngestionConfig(dataset_download_url='https://hello.com/data/new/train.csv', tgz_download_dir='/home/pro/Documents/Movies/Movies/artifact/data_ingestion/2023-02-15-11-02-39/tgz_data', raw_data_dir='/home/pro/Documents/Movies/Movies/artifact/data_ingestion/2023-02-15-11-02-39/raw_data', ingested_train_dir='/home/pro/Documents/Movies/Movies/artifact/data_ingestion/2023-02-15-11-02-39/ingested_data/train', ingested_test_dir='/home/pro/Documents/Movies/Movies/artifact/data_ingestion/2023-02-15-11-02-39/ingested_data/test')"
      ]
     },
     "execution_count": 36,
     "metadata": {},
     "output_type": "execute_result"
    }
   ],
   "source": [
    "config.get_data_ingestion_config()"
   ]
  },
  {
   "cell_type": "code",
   "execution_count": 37,
   "metadata": {},
   "outputs": [
    {
     "data": {
      "text/plain": [
       "'/home/pro/Documents/Movies/Movies/artifact/schema.yaml'"
      ]
     },
     "execution_count": 37,
     "metadata": {},
     "output_type": "execute_result"
    }
   ],
   "source": [
    "data_validation_config = config_info[DATA_VALIDATION_CONFIG_KEY]\n",
    "data_artifact = config.get_training_pepeline_config()\n",
    "os.path.join(data_artifact.artifact_file_dir,data_validation_config[SCHEMA_FILE_NAME_KEY])"
   ]
  },
  {
   "cell_type": "code",
   "execution_count": 38,
   "metadata": {},
   "outputs": [
    {
     "data": {
      "text/plain": [
       "DataValidationConfig(scehma_file_path='/home/pro/Documents/Movies/Movies/artifact/schema/2023-02-15-11-02-39/schema.yaml')"
      ]
     },
     "execution_count": 38,
     "metadata": {},
     "output_type": "execute_result"
    }
   ],
   "source": [
    "config.get_data_validation_config()"
   ]
  },
  {
   "cell_type": "code",
   "execution_count": 39,
   "metadata": {},
   "outputs": [],
   "source": [
    "data_transformation_config = config_info[DATA_TRANSFORMATION_CONFIG_KEY]\n",
    "            "
   ]
  },
  {
   "cell_type": "code",
   "execution_count": 40,
   "metadata": {},
   "outputs": [
    {
     "data": {
      "text/plain": [
       "'/home/pro/Documents/Movies/Movies/artifact/transformed_data/2023-02-15-11-02-40'"
      ]
     },
     "execution_count": 40,
     "metadata": {},
     "output_type": "execute_result"
    }
   ],
   "source": [
    "transformed_dir = os.path.join(data_artifact.artifact_file_dir,data_transformation_config[TRANSFORMED_DIR_KEY],get_current_time_stamp())\n",
    "transformed_dir\n",
    "    "
   ]
  },
  {
   "cell_type": "code",
   "execution_count": 41,
   "metadata": {},
   "outputs": [
    {
     "data": {
      "text/plain": [
       "'/home/pro/Documents/Movies/Movies/artifact/transformed_data/2023-02-15-11-02-40/train'"
      ]
     },
     "execution_count": 41,
     "metadata": {},
     "output_type": "execute_result"
    }
   ],
   "source": [
    "transformed_train_dir = os.path.join(transformed_dir,data_transformation_config[TRANSFORMED_TRAIN_DIR_KEY])\n",
    "transformed_train_dir"
   ]
  },
  {
   "cell_type": "code",
   "execution_count": 42,
   "metadata": {},
   "outputs": [
    {
     "data": {
      "text/plain": [
       "'/home/pro/Documents/Movies/Movies/artifact/transformed_data/2023-02-15-11-02-40/test'"
      ]
     },
     "execution_count": 42,
     "metadata": {},
     "output_type": "execute_result"
    }
   ],
   "source": [
    "transformed_test_dir = os.path.join(transformed_dir,data_transformation_config[TRANSFORMED_TEST_DIR_KEY])\n",
    "            \n",
    "transformed_test_dir"
   ]
  },
  {
   "cell_type": "code",
   "execution_count": 43,
   "metadata": {},
   "outputs": [
    {
     "data": {
      "text/plain": [
       "'/home/pro/Documents/Movies/Movies/artifact/preprocessed/2023-02-15-11-02-40'"
      ]
     },
     "execution_count": 43,
     "metadata": {},
     "output_type": "execute_result"
    }
   ],
   "source": [
    "preprocessed_dir = os.path.join(data_artifact.artifact_file_dir,data_transformation_config[PREPROCESSED_DIR_KEY],get_current_time_stamp())\n",
    "preprocessed_dir     "
   ]
  },
  {
   "cell_type": "code",
   "execution_count": 44,
   "metadata": {},
   "outputs": [
    {
     "data": {
      "text/plain": [
       "'/home/pro/Documents/Movies/Movies/artifact/preprocessed/2023-02-15-11-02-40/preprocessed.pkl'"
      ]
     },
     "execution_count": 44,
     "metadata": {},
     "output_type": "execute_result"
    }
   ],
   "source": [
    "preprocessed_file = os.path.join(preprocessed_dir,data_transformation_config[PREPROCESSED_OBJECT_FILE_NAME_KEY])\n",
    "preprocessed_file"
   ]
  },
  {
   "cell_type": "code",
   "execution_count": 45,
   "metadata": {},
   "outputs": [
    {
     "data": {
      "text/plain": [
       "DataTransformationConfig(tranfored_train_dir='/home/pro/Documents/Movies/Movies/artifact/transformed_data/2023-02-15-11-02-39/train', transormed_test_dir='/home/pro/Documents/Movies/Movies/artifact/transformed_data/2023-02-15-11-02-39/test', preprocessed_file_path='/home/pro/Documents/Movies/Movies/artifact/preprocessed/2023-02-15-11-02-39/preprocessed.pkl')"
      ]
     },
     "execution_count": 45,
     "metadata": {},
     "output_type": "execute_result"
    }
   ],
   "source": [
    "config.get_data_transformation_config()"
   ]
  },
  {
   "cell_type": "code",
   "execution_count": 46,
   "metadata": {},
   "outputs": [
    {
     "data": {
      "text/plain": [
       "DataTransformationConfig(tranfored_train_dir='/home/pro/Documents/Movies/Movies/artifact/transformed_data/2023-02-15-11-02-40/train', transormed_test_dir='/home/pro/Documents/Movies/Movies/artifact/transformed_data/2023-02-15-11-02-40/test', preprocessed_file_path='/home/pro/Documents/Movies/Movies/artifact/preprocessed/2023-02-15-11-02-40/preprocessed.pkl')"
      ]
     },
     "execution_count": 46,
     "metadata": {},
     "output_type": "execute_result"
    }
   ],
   "source": [
    "from Movies.entity.config_entity import *\n",
    "DataTransformationConfig(tranfored_train_dir=transformed_train_dir,transormed_test_dir=transformed_test_dir,preprocessed_file_path=preprocessed_file)"
   ]
  },
  {
   "cell_type": "code",
   "execution_count": 47,
   "metadata": {},
   "outputs": [
    {
     "data": {
      "text/plain": [
       "'/home/pro/Documents/Movies/Movies/artifact'"
      ]
     },
     "execution_count": 47,
     "metadata": {},
     "output_type": "execute_result"
    }
   ],
   "source": [
    "data_artifact.artifact_file_dir"
   ]
  },
  {
   "cell_type": "code",
   "execution_count": 48,
   "metadata": {},
   "outputs": [
    {
     "data": {
      "text/plain": [
       "{'trained_model_dir': 'trained_model',\n",
       " 'model_file_name': 'model.pkl',\n",
       " 'base_accuracy': 0.6}"
      ]
     },
     "execution_count": 48,
     "metadata": {},
     "output_type": "execute_result"
    }
   ],
   "source": [
    "data_training_model = config_info[MODEL_TRAINING_CONFIG_KEY]\n",
    "\n",
    "data_training_model"
   ]
  },
  {
   "cell_type": "code",
   "execution_count": 49,
   "metadata": {},
   "outputs": [
    {
     "data": {
      "text/plain": [
       "'/home/pro/Documents/Movies/Movies/artifact/trained_model/2023-02-15-11-02-40'"
      ]
     },
     "execution_count": 49,
     "metadata": {},
     "output_type": "execute_result"
    }
   ],
   "source": [
    "train_dir = os.path.join(\n",
    "                data_artifact.artifact_file_dir,\n",
    "                data_training_model[TRAINED_MODEL_DIR_KEY],\n",
    "                get_current_time_stamp()\n",
    "                )\n",
    "train_dir  "
   ]
  },
  {
   "cell_type": "code",
   "execution_count": 50,
   "metadata": {},
   "outputs": [
    {
     "data": {
      "text/plain": [
       "'/home/pro/Documents/Movies/Movies/artifact/trained_model/2023-02-15-11-02-40/model.pkl'"
      ]
     },
     "execution_count": 50,
     "metadata": {},
     "output_type": "execute_result"
    }
   ],
   "source": [
    "trained_model_file = os.path.join(\n",
    "                train_dir,\n",
    "                data_training_model[MODEL_FILE_NAME_KEY]\n",
    "                )\n",
    "trained_model_file"
   ]
  },
  {
   "cell_type": "code",
   "execution_count": 51,
   "metadata": {},
   "outputs": [
    {
     "data": {
      "text/plain": [
       "0.6"
      ]
     },
     "execution_count": 51,
     "metadata": {},
     "output_type": "execute_result"
    }
   ],
   "source": [
    "base_accuracy = data_training_model[MODEL_BASE_ACCURACY_KEY]\n",
    "base_accuracy"
   ]
  },
  {
   "cell_type": "code",
   "execution_count": 52,
   "metadata": {},
   "outputs": [
    {
     "data": {
      "text/plain": [
       "ModelTrainingConfig(trained_model_filepath='/home/pro/Documents/Movies/Movies/artifact/trained_model/2023-02-15-11-02-39/model.pkl', base_accuracy_model=0.6)"
      ]
     },
     "execution_count": 52,
     "metadata": {},
     "output_type": "execute_result"
    }
   ],
   "source": [
    "config.get_model_training_config()"
   ]
  },
  {
   "cell_type": "code",
   "execution_count": 53,
   "metadata": {},
   "outputs": [
    {
     "data": {
      "text/plain": [
       "'/home/pro/Documents/Movies/Movies/artifact/model/model.pkl'"
      ]
     },
     "execution_count": 53,
     "metadata": {},
     "output_type": "execute_result"
    }
   ],
   "source": [
    "model_evaluation_config = config_info[MODEL_EVALUATION_CONFIG_KEY]\n",
    "model_path = os.path.join(data_artifact.artifact_file_dir,model_evaluation_config[MODEL_FILE_DIR_KEY])\n",
    "model_name = os.path.join(model_path,model_evaluation_config[MODEL_NAME_KEY])\n",
    "model_name"
   ]
  },
  {
   "cell_type": "code",
   "execution_count": 54,
   "metadata": {},
   "outputs": [
    {
     "data": {
      "text/plain": [
       "ModelEvaluationConfig(model_evaluation_filepath='/home/pro/Documents/Movies/Movies/artifact/model/model.pkl', time_stamp='2023-02-15-11-02-39')"
      ]
     },
     "execution_count": 54,
     "metadata": {},
     "output_type": "execute_result"
    }
   ],
   "source": [
    "config.get_model_evaluation_config()"
   ]
  },
  {
   "cell_type": "code",
   "execution_count": 55,
   "metadata": {},
   "outputs": [
    {
     "data": {
      "text/plain": [
       "{'model_export_dir': 'saved_models'}"
      ]
     },
     "execution_count": 55,
     "metadata": {},
     "output_type": "execute_result"
    }
   ],
   "source": [
    "model_pusher_config = config_info[MODEL_PUSHER_CONFIG_KEY]\n",
    "model_pusher_config"
   ]
  },
  {
   "cell_type": "code",
   "execution_count": 56,
   "metadata": {},
   "outputs": [
    {
     "data": {
      "text/plain": [
       "'/home/pro/Documents/Movies/Movies/artifact/saved_models'"
      ]
     },
     "execution_count": 56,
     "metadata": {},
     "output_type": "execute_result"
    }
   ],
   "source": [
    "model_export_dir = os.path.join(data_artifact.artifact_file_dir,model_pusher_config[MDOEL_EXPORT_DIR_KEY])\n",
    "model_export_dir        "
   ]
  },
  {
   "cell_type": "code",
   "execution_count": 57,
   "metadata": {},
   "outputs": [
    {
     "data": {
      "text/plain": [
       "ModelPushConfig(export_dir_path='/home/pro/Documents/Movies/Movies/artifact/saved_models')"
      ]
     },
     "execution_count": 57,
     "metadata": {},
     "output_type": "execute_result"
    }
   ],
   "source": [
    "model_pusher_config = ModelPushConfig(export_dir_path=model_export_dir)\n",
    "model_pusher_config"
   ]
  },
  {
   "cell_type": "code",
   "execution_count": 58,
   "metadata": {},
   "outputs": [
    {
     "data": {
      "text/plain": [
       "ModelPushConfig(export_dir_path='/home/pro/Documents/Movies/Movies/artifact/saved_models')"
      ]
     },
     "execution_count": 58,
     "metadata": {},
     "output_type": "execute_result"
    }
   ],
   "source": [
    "config.get_model_pusher_config()"
   ]
  }
 ],
 "metadata": {
  "kernelspec": {
   "display_name": "Python 3",
   "language": "python",
   "name": "python3"
  },
  "language_info": {
   "codemirror_mode": {
    "name": "ipython",
    "version": 3
   },
   "file_extension": ".py",
   "mimetype": "text/x-python",
   "name": "python",
   "nbconvert_exporter": "python",
   "pygments_lexer": "ipython3",
   "version": "3.10.6 (main, Nov 14 2022, 16:10:14) [GCC 11.3.0]"
  },
  "orig_nbformat": 4,
  "vscode": {
   "interpreter": {
    "hash": "916dbcbb3f70747c44a77c7bcd40155683ae19c65e1c03b4aa3499c5328201f1"
   }
  }
 },
 "nbformat": 4,
 "nbformat_minor": 2
}
