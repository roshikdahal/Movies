{
 "cells": [
  {
   "cell_type": "code",
   "execution_count": 1,
   "metadata": {},
   "outputs": [
    {
     "data": {
      "text/plain": [
       "'/home/pro/Documents/class project-i/research'"
      ]
     },
     "execution_count": 1,
     "metadata": {},
     "output_type": "execute_result"
    }
   ],
   "source": [
    "import os\n",
    "os.getcwd()"
   ]
  },
  {
   "cell_type": "code",
   "execution_count": 6,
   "metadata": {},
   "outputs": [
    {
     "data": {
      "text/plain": [
       "['/home/pro/Documents/Movies/research',\n",
       " '/usr/lib/python310.zip',\n",
       " '/usr/lib/python3.10',\n",
       " '/usr/lib/python3.10/lib-dynload',\n",
       " '',\n",
       " '/home/pro/.local/lib/python3.10/site-packages',\n",
       " '/usr/local/lib/python3.10/dist-packages',\n",
       " '/usr/local/lib/python3.10/dist-packages/movie_grossincome_prediction-0.0.0.1-py3.10.egg',\n",
       " '/usr/local/lib/python3.10/dist-packages/Flask-2.2.2-py3.10.egg',\n",
       " '/usr/local/lib/python3.10/dist-packages/itsdangerous-2.1.2-py3.10.egg',\n",
       " '/usr/local/lib/python3.10/dist-packages/Werkzeug-2.2.2-py3.10.egg',\n",
       " '/usr/local/lib/python3.10/dist-packages/MarkupSafe-2.1.2-py3.10-linux-x86_64.egg',\n",
       " '/usr/lib/python3/dist-packages']"
      ]
     },
     "execution_count": 6,
     "metadata": {},
     "output_type": "execute_result"
    }
   ],
   "source": [
    "import sys\n",
    "sys.path"
   ]
  },
  {
   "cell_type": "code",
   "execution_count": 10,
   "metadata": {},
   "outputs": [],
   "source": [
    "os.chdir(\"..\")"
   ]
  },
  {
   "cell_type": "code",
   "execution_count": 11,
   "metadata": {},
   "outputs": [
    {
     "data": {
      "text/plain": [
       "'/home/pro/Documents/Movies'"
      ]
     },
     "execution_count": 11,
     "metadata": {},
     "output_type": "execute_result"
    }
   ],
   "source": [
    "os.getcwd()"
   ]
  },
  {
   "cell_type": "code",
   "execution_count": 12,
   "metadata": {},
   "outputs": [
    {
     "data": {
      "text/plain": [
       "['config',\n",
       " 'movies_logs',\n",
       " 'setup.py',\n",
       " 'Movies',\n",
       " 'venv',\n",
       " 'movie_grossincome_prediction.egg-info',\n",
       " 'README.md',\n",
       " 'dist',\n",
       " 'LICENCE',\n",
       " 'app.py',\n",
       " 'research',\n",
       " 'Dockerfile',\n",
       " 'build',\n",
       " '.gitignore',\n",
       " '.git',\n",
       " 'requirements.txt']"
      ]
     },
     "execution_count": 12,
     "metadata": {},
     "output_type": "execute_result"
    }
   ],
   "source": [
    "os.listdir()"
   ]
  },
  {
   "cell_type": "code",
   "execution_count": 14,
   "metadata": {},
   "outputs": [],
   "source": [
    "import os\n",
    "from Movies.constants import *\n",
    "from Movies.utils import read_yaml_file\n",
    "\n",
    "yaml_reader = read_yaml_file(CONFIG_FILE_DIR)\n",
    "training_pipeline_config = yaml_reader[TRAINING_PIPELINE_CONFIG_KEY]\n",
    "artifact_dir = os.path.join(CURRENT_WORKING_DIR,\n",
    "                                        training_pipeline_config[TRAINING_PIPELINE_NAME_KEY],\n",
    "                                        training_pipeline_config[TRAINING_PIPELINE_ARTIFACT_DIR_KEY]\n",
    "                                        \n",
    "                                        )"
   ]
  },
  {
   "cell_type": "code",
   "execution_count": 15,
   "metadata": {},
   "outputs": [
    {
     "data": {
      "text/plain": [
       "'/home/pro/Documents/Movies/Movies/artifact'"
      ]
     },
     "execution_count": 15,
     "metadata": {},
     "output_type": "execute_result"
    }
   ],
   "source": [
    "artifact_dir"
   ]
  },
  {
   "cell_type": "code",
   "execution_count": null,
   "metadata": {},
   "outputs": [],
   "source": []
  }
 ],
 "metadata": {
  "kernelspec": {
   "display_name": "Python 3",
   "language": "python",
   "name": "python3"
  },
  "language_info": {
   "codemirror_mode": {
    "name": "ipython",
    "version": 3
   },
   "file_extension": ".py",
   "mimetype": "text/x-python",
   "name": "python",
   "nbconvert_exporter": "python",
   "pygments_lexer": "ipython3",
   "version": "3.10.6"
  },
  "orig_nbformat": 4,
  "vscode": {
   "interpreter": {
    "hash": "916dbcbb3f70747c44a77c7bcd40155683ae19c65e1c03b4aa3499c5328201f1"
   }
  }
 },
 "nbformat": 4,
 "nbformat_minor": 2
}
