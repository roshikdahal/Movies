{
 "cells": [
  {
   "cell_type": "code",
   "execution_count": 1,
   "id": "36728118",
   "metadata": {},
   "outputs": [],
   "source": [
    "import pandas as pd\n",
    "import numpy as np"
   ]
  },
  {
   "cell_type": "code",
   "execution_count": 2,
   "id": "74bf5efa",
   "metadata": {},
   "outputs": [
    {
     "data": {
      "text/html": [
       "<div>\n",
       "<style scoped>\n",
       "    .dataframe tbody tr th:only-of-type {\n",
       "        vertical-align: middle;\n",
       "    }\n",
       "\n",
       "    .dataframe tbody tr th {\n",
       "        vertical-align: top;\n",
       "    }\n",
       "\n",
       "    .dataframe thead th {\n",
       "        text-align: right;\n",
       "    }\n",
       "</style>\n",
       "<table border=\"1\" class=\"dataframe\">\n",
       "  <thead>\n",
       "    <tr style=\"text-align: right;\">\n",
       "      <th></th>\n",
       "      <th>Unnamed: 0</th>\n",
       "      <th>originalTitle</th>\n",
       "      <th>domestic_revenue</th>\n",
       "      <th>world_revenue</th>\n",
       "      <th>distributor</th>\n",
       "      <th>opening_revenue</th>\n",
       "      <th>opening_theaters</th>\n",
       "      <th>budget</th>\n",
       "      <th>MPAA</th>\n",
       "      <th>genres_x</th>\n",
       "      <th>release_days</th>\n",
       "      <th>tconst</th>\n",
       "      <th>titleType</th>\n",
       "      <th>isAdult</th>\n",
       "      <th>startYear</th>\n",
       "      <th>runtimeMinutes</th>\n",
       "      <th>genres_y</th>\n",
       "      <th>averageRating</th>\n",
       "      <th>numVotes</th>\n",
       "      <th>ordering</th>\n",
       "      <th>nconst</th>\n",
       "      <th>category</th>\n",
       "      <th>job</th>\n",
       "      <th>characters</th>\n",
       "      <th>primaryName</th>\n",
       "      <th>birthYear</th>\n",
       "      <th>deathYear</th>\n",
       "      <th>primaryProfession</th>\n",
       "      <th>knownForTitles</th>\n",
       "    </tr>\n",
       "  </thead>\n",
       "  <tbody>\n",
       "    <tr>\n",
       "      <th>0</th>\n",
       "      <td>0</td>\n",
       "      <td>Super 30</td>\n",
       "      <td>$2,269,878</td>\n",
       "      <td>$24,701,637</td>\n",
       "      <td>Reliance Big Pictures</td>\n",
       "      <td>$871,256</td>\n",
       "      <td>317</td>\n",
       "      <td>NaN</td>\n",
       "      <td>NaN</td>\n",
       "      <td>Biography,Drama</td>\n",
       "      <td>173</td>\n",
       "      <td>tt7485048</td>\n",
       "      <td>movie</td>\n",
       "      <td>0</td>\n",
       "      <td>2019</td>\n",
       "      <td>154</td>\n",
       "      <td>Biography,Drama</td>\n",
       "      <td>7.9</td>\n",
       "      <td>33523</td>\n",
       "      <td>9</td>\n",
       "      <td>nm0618898</td>\n",
       "      <td>producer</td>\n",
       "      <td>producer</td>\n",
       "      <td>\\N</td>\n",
       "      <td>Sajid Nadiadwala</td>\n",
       "      <td>1966</td>\n",
       "      <td>\\N</td>\n",
       "      <td>producer,writer,director</td>\n",
       "      <td>tt7518786,tt2372222,tt8366590,tt7721946</td>\n",
       "    </tr>\n",
       "    <tr>\n",
       "      <th>1</th>\n",
       "      <td>1</td>\n",
       "      <td>Ad Astra</td>\n",
       "      <td>$50,188,370</td>\n",
       "      <td>$127,461,872</td>\n",
       "      <td>Twentieth Century Fox</td>\n",
       "      <td>$19,001,398</td>\n",
       "      <td>3,460</td>\n",
       "      <td>$90,000,000</td>\n",
       "      <td>PG-13</td>\n",
       "      <td>Adventure,Drama,Mystery,Sci-Fi,Thriller</td>\n",
       "      <td>105</td>\n",
       "      <td>tt2935510</td>\n",
       "      <td>movie</td>\n",
       "      <td>0</td>\n",
       "      <td>2019</td>\n",
       "      <td>123</td>\n",
       "      <td>Adventure,Drama,Mystery</td>\n",
       "      <td>6.5</td>\n",
       "      <td>239699</td>\n",
       "      <td>9</td>\n",
       "      <td>nm1250070</td>\n",
       "      <td>producer</td>\n",
       "      <td>producer</td>\n",
       "      <td>\\N</td>\n",
       "      <td>Jeremy Kleiner</td>\n",
       "      <td>\\N</td>\n",
       "      <td>\\N</td>\n",
       "      <td>producer,miscellaneous</td>\n",
       "      <td>tt2024544,tt1020072,tt4975722,tt7125860</td>\n",
       "    </tr>\n",
       "    <tr>\n",
       "      <th>2</th>\n",
       "      <td>2</td>\n",
       "      <td>The Art of Self-Defense</td>\n",
       "      <td>$2,410,914</td>\n",
       "      <td>$2,414,269</td>\n",
       "      <td>Bleecker Street Media</td>\n",
       "      <td>$114,374</td>\n",
       "      <td>7</td>\n",
       "      <td>NaN</td>\n",
       "      <td>R</td>\n",
       "      <td>Action,Comedy,Crime,Drama,Mystery,Thriller</td>\n",
       "      <td>173</td>\n",
       "      <td>tt7339248</td>\n",
       "      <td>movie</td>\n",
       "      <td>0</td>\n",
       "      <td>2019</td>\n",
       "      <td>104</td>\n",
       "      <td>Action,Comedy,Crime</td>\n",
       "      <td>6.6</td>\n",
       "      <td>38502</td>\n",
       "      <td>9</td>\n",
       "      <td>nm3442546</td>\n",
       "      <td>producer</td>\n",
       "      <td>producer</td>\n",
       "      <td>\\N</td>\n",
       "      <td>Stephanie Whonsetler</td>\n",
       "      <td>\\N</td>\n",
       "      <td>\\N</td>\n",
       "      <td>production_manager,miscellaneous,producer</td>\n",
       "      <td>tt6269368,tt10962368,tt7339248,tt4595186</td>\n",
       "    </tr>\n",
       "    <tr>\n",
       "      <th>3</th>\n",
       "      <td>3</td>\n",
       "      <td>Welcome to Marwen</td>\n",
       "      <td>$10,763,520</td>\n",
       "      <td>$13,061,491</td>\n",
       "      <td>Universal Pictures</td>\n",
       "      <td>$2,354,205</td>\n",
       "      <td>1,911</td>\n",
       "      <td>NaN</td>\n",
       "      <td>PG-13</td>\n",
       "      <td>Biography,Comedy,Drama,Fantasy,Romance</td>\n",
       "      <td>376</td>\n",
       "      <td>tt3289724</td>\n",
       "      <td>movie</td>\n",
       "      <td>0</td>\n",
       "      <td>2018</td>\n",
       "      <td>116</td>\n",
       "      <td>Biography,Comedy,Drama</td>\n",
       "      <td>6.2</td>\n",
       "      <td>24570</td>\n",
       "      <td>9</td>\n",
       "      <td>nm0823330</td>\n",
       "      <td>producer</td>\n",
       "      <td>producer</td>\n",
       "      <td>\\N</td>\n",
       "      <td>Steve Starkey</td>\n",
       "      <td>\\N</td>\n",
       "      <td>\\N</td>\n",
       "      <td>producer,assistant_director,editorial_department</td>\n",
       "      <td>tt0109830,tt0118884,tt1907668,tt0162222</td>\n",
       "    </tr>\n",
       "    <tr>\n",
       "      <th>4</th>\n",
       "      <td>4</td>\n",
       "      <td>Welcome to Marwen</td>\n",
       "      <td>$10,763,520</td>\n",
       "      <td>$13,061,491</td>\n",
       "      <td>Universal Pictures</td>\n",
       "      <td>$2,354,205</td>\n",
       "      <td>1,911</td>\n",
       "      <td>NaN</td>\n",
       "      <td>PG-13</td>\n",
       "      <td>Biography,Comedy,Drama,Fantasy,Romance</td>\n",
       "      <td>376</td>\n",
       "      <td>tt3289724</td>\n",
       "      <td>movie</td>\n",
       "      <td>0</td>\n",
       "      <td>2018</td>\n",
       "      <td>116</td>\n",
       "      <td>Biography,Comedy,Drama</td>\n",
       "      <td>6.2</td>\n",
       "      <td>24570</td>\n",
       "      <td>9</td>\n",
       "      <td>nm0823330</td>\n",
       "      <td>producer</td>\n",
       "      <td>producer</td>\n",
       "      <td>\\N</td>\n",
       "      <td>Steve Starkey</td>\n",
       "      <td>\\N</td>\n",
       "      <td>\\N</td>\n",
       "      <td>producer,assistant_director,editorial_department</td>\n",
       "      <td>tt0109830,tt0118884,tt1907668,tt0162222</td>\n",
       "    </tr>\n",
       "  </tbody>\n",
       "</table>\n",
       "</div>"
      ],
      "text/plain": [
       "   Unnamed: 0            originalTitle domestic_revenue world_revenue  \\\n",
       "0           0                 Super 30       $2,269,878   $24,701,637   \n",
       "1           1                 Ad Astra      $50,188,370  $127,461,872   \n",
       "2           2  The Art of Self-Defense       $2,410,914    $2,414,269   \n",
       "3           3        Welcome to Marwen      $10,763,520   $13,061,491   \n",
       "4           4        Welcome to Marwen      $10,763,520   $13,061,491   \n",
       "\n",
       "             distributor opening_revenue opening_theaters       budget   MPAA  \\\n",
       "0  Reliance Big Pictures        $871,256              317          NaN    NaN   \n",
       "1  Twentieth Century Fox     $19,001,398            3,460  $90,000,000  PG-13   \n",
       "2  Bleecker Street Media        $114,374                7          NaN      R   \n",
       "3     Universal Pictures      $2,354,205            1,911          NaN  PG-13   \n",
       "4     Universal Pictures      $2,354,205            1,911          NaN  PG-13   \n",
       "\n",
       "                                     genres_x  release_days     tconst  \\\n",
       "0                             Biography,Drama           173  tt7485048   \n",
       "1     Adventure,Drama,Mystery,Sci-Fi,Thriller           105  tt2935510   \n",
       "2  Action,Comedy,Crime,Drama,Mystery,Thriller           173  tt7339248   \n",
       "3      Biography,Comedy,Drama,Fantasy,Romance           376  tt3289724   \n",
       "4      Biography,Comedy,Drama,Fantasy,Romance           376  tt3289724   \n",
       "\n",
       "  titleType  isAdult  startYear runtimeMinutes                 genres_y  \\\n",
       "0     movie        0       2019            154          Biography,Drama   \n",
       "1     movie        0       2019            123  Adventure,Drama,Mystery   \n",
       "2     movie        0       2019            104      Action,Comedy,Crime   \n",
       "3     movie        0       2018            116   Biography,Comedy,Drama   \n",
       "4     movie        0       2018            116   Biography,Comedy,Drama   \n",
       "\n",
       "   averageRating  numVotes  ordering     nconst  category       job  \\\n",
       "0            7.9     33523         9  nm0618898  producer  producer   \n",
       "1            6.5    239699         9  nm1250070  producer  producer   \n",
       "2            6.6     38502         9  nm3442546  producer  producer   \n",
       "3            6.2     24570         9  nm0823330  producer  producer   \n",
       "4            6.2     24570         9  nm0823330  producer  producer   \n",
       "\n",
       "  characters           primaryName birthYear deathYear  \\\n",
       "0         \\N      Sajid Nadiadwala      1966        \\N   \n",
       "1         \\N        Jeremy Kleiner        \\N        \\N   \n",
       "2         \\N  Stephanie Whonsetler        \\N        \\N   \n",
       "3         \\N         Steve Starkey        \\N        \\N   \n",
       "4         \\N         Steve Starkey        \\N        \\N   \n",
       "\n",
       "                                  primaryProfession  \\\n",
       "0                          producer,writer,director   \n",
       "1                            producer,miscellaneous   \n",
       "2         production_manager,miscellaneous,producer   \n",
       "3  producer,assistant_director,editorial_department   \n",
       "4  producer,assistant_director,editorial_department   \n",
       "\n",
       "                             knownForTitles  \n",
       "0   tt7518786,tt2372222,tt8366590,tt7721946  \n",
       "1   tt2024544,tt1020072,tt4975722,tt7125860  \n",
       "2  tt6269368,tt10962368,tt7339248,tt4595186  \n",
       "3   tt0109830,tt0118884,tt1907668,tt0162222  \n",
       "4   tt0109830,tt0118884,tt1907668,tt0162222  "
      ]
     },
     "execution_count": 2,
     "metadata": {},
     "output_type": "execute_result"
    }
   ],
   "source": [
    "pd.set_option('display.max_columns', None)\n",
    "df = pd.read_csv('main.csv')\n",
    "\n",
    "df.head()"
   ]
  },
  {
   "cell_type": "markdown",
   "id": "c88222b1",
   "metadata": {},
   "source": [
    "# Feature Engineering\n"
   ]
  },
  {
   "cell_type": "markdown",
   "id": "50753b7f",
   "metadata": {},
   "source": [
    "first change the data type of certain featurs which are float by nature but acting as object"
   ]
  },
  {
   "cell_type": "code",
   "execution_count": 3,
   "id": "d93048b2",
   "metadata": {},
   "outputs": [],
   "source": [
    "df['world_revenue'] = df.world_revenue.str.replace('$','',regex=True)\n",
    "df['world_revenue'] = df.world_revenue.str.replace(',','',regex=True)\n",
    "df['world_revenue'] = df[\"world_revenue\"].astype(int)"
   ]
  },
  {
   "cell_type": "code",
   "execution_count": 4,
   "id": "82bcdcf2",
   "metadata": {},
   "outputs": [
    {
     "name": "stdout",
     "output_type": "stream",
     "text": [
      "runtimeMinutes 20\n",
      "genres_y 1\n",
      "job 329\n",
      "characters 912\n",
      "birthYear 579\n",
      "deathYear 900\n",
      "knownForTitles 4\n"
     ]
    }
   ],
   "source": [
    "data = df.copy()\n",
    "def check_other_null(feature):\n",
    "    if '\\\\N' in data.values :    \n",
    "        if (data[feature] == '\\\\N').sum()>0:\n",
    "            count_n = (df[feature] == '\\\\N').sum().sum()\n",
    "            \n",
    "            print(feature,count_n)\n",
    "\n",
    "        \n",
    "for feature in data.columns:\n",
    "    check_other_null(feature)"
   ]
  },
  {
   "cell_type": "code",
   "execution_count": 5,
   "id": "5ee51e22",
   "metadata": {},
   "outputs": [],
   "source": [
    "df.replace('\\\\N', np.nan, inplace=True)"
   ]
  },
  {
   "cell_type": "code",
   "execution_count": 6,
   "id": "e93a7c68",
   "metadata": {},
   "outputs": [
    {
     "name": "stdout",
     "output_type": "stream",
     "text": [
      "opening_revenue 20 missing values after update\n",
      "opening_theaters 25 missing values after update\n",
      "budget 644 missing values after update\n",
      "MPAA 79 missing values after update\n",
      "runtimeMinutes 20 missing values after update\n",
      "genres_y 1 missing values after update\n",
      "job 329 missing values after update\n",
      "characters 912 missing values after update\n",
      "birthYear 579 missing values after update\n",
      "deathYear 900 missing values after update\n",
      "primaryProfession 6 missing values after update\n",
      "knownForTitles 4 missing values after update\n"
     ]
    }
   ],
   "source": [
    "##finding all null values\n",
    "feature_with_nan = [feature for feature in df.columns if df[feature].isnull().sum()>0]\n",
    "for feature in feature_with_nan:\n",
    "    print(feature,np.round(df[feature].isnull().sum()),\"missing values after update\")"
   ]
  },
  {
   "cell_type": "code",
   "execution_count": 7,
   "id": "2d8ef4fa",
   "metadata": {},
   "outputs": [],
   "source": [
    "new_df = df.drop(['budget','job','birthYear','deathYear','Unnamed: 0','genres_x','primaryProfession','nconst','isAdult','domestic_revenue','opening_revenue','tconst','titleType','category'],axis = 1)"
   ]
  },
  {
   "cell_type": "code",
   "execution_count": 8,
   "id": "a5a42303",
   "metadata": {},
   "outputs": [
    {
     "data": {
      "text/html": [
       "<div>\n",
       "<style scoped>\n",
       "    .dataframe tbody tr th:only-of-type {\n",
       "        vertical-align: middle;\n",
       "    }\n",
       "\n",
       "    .dataframe tbody tr th {\n",
       "        vertical-align: top;\n",
       "    }\n",
       "\n",
       "    .dataframe thead th {\n",
       "        text-align: right;\n",
       "    }\n",
       "</style>\n",
       "<table border=\"1\" class=\"dataframe\">\n",
       "  <thead>\n",
       "    <tr style=\"text-align: right;\">\n",
       "      <th></th>\n",
       "      <th>originalTitle</th>\n",
       "      <th>world_revenue</th>\n",
       "      <th>distributor</th>\n",
       "      <th>opening_theaters</th>\n",
       "      <th>MPAA</th>\n",
       "      <th>release_days</th>\n",
       "      <th>startYear</th>\n",
       "      <th>runtimeMinutes</th>\n",
       "      <th>genres_y</th>\n",
       "      <th>averageRating</th>\n",
       "      <th>numVotes</th>\n",
       "      <th>ordering</th>\n",
       "      <th>characters</th>\n",
       "      <th>primaryName</th>\n",
       "      <th>knownForTitles</th>\n",
       "    </tr>\n",
       "  </thead>\n",
       "  <tbody>\n",
       "    <tr>\n",
       "      <th>0</th>\n",
       "      <td>Super 30</td>\n",
       "      <td>24701637</td>\n",
       "      <td>Reliance Big Pictures</td>\n",
       "      <td>317</td>\n",
       "      <td>NaN</td>\n",
       "      <td>173</td>\n",
       "      <td>2019</td>\n",
       "      <td>154</td>\n",
       "      <td>Biography,Drama</td>\n",
       "      <td>7.9</td>\n",
       "      <td>33523</td>\n",
       "      <td>9</td>\n",
       "      <td>NaN</td>\n",
       "      <td>Sajid Nadiadwala</td>\n",
       "      <td>tt7518786,tt2372222,tt8366590,tt7721946</td>\n",
       "    </tr>\n",
       "    <tr>\n",
       "      <th>1</th>\n",
       "      <td>Ad Astra</td>\n",
       "      <td>127461872</td>\n",
       "      <td>Twentieth Century Fox</td>\n",
       "      <td>3,460</td>\n",
       "      <td>PG-13</td>\n",
       "      <td>105</td>\n",
       "      <td>2019</td>\n",
       "      <td>123</td>\n",
       "      <td>Adventure,Drama,Mystery</td>\n",
       "      <td>6.5</td>\n",
       "      <td>239699</td>\n",
       "      <td>9</td>\n",
       "      <td>NaN</td>\n",
       "      <td>Jeremy Kleiner</td>\n",
       "      <td>tt2024544,tt1020072,tt4975722,tt7125860</td>\n",
       "    </tr>\n",
       "    <tr>\n",
       "      <th>2</th>\n",
       "      <td>The Art of Self-Defense</td>\n",
       "      <td>2414269</td>\n",
       "      <td>Bleecker Street Media</td>\n",
       "      <td>7</td>\n",
       "      <td>R</td>\n",
       "      <td>173</td>\n",
       "      <td>2019</td>\n",
       "      <td>104</td>\n",
       "      <td>Action,Comedy,Crime</td>\n",
       "      <td>6.6</td>\n",
       "      <td>38502</td>\n",
       "      <td>9</td>\n",
       "      <td>NaN</td>\n",
       "      <td>Stephanie Whonsetler</td>\n",
       "      <td>tt6269368,tt10962368,tt7339248,tt4595186</td>\n",
       "    </tr>\n",
       "    <tr>\n",
       "      <th>3</th>\n",
       "      <td>Welcome to Marwen</td>\n",
       "      <td>13061491</td>\n",
       "      <td>Universal Pictures</td>\n",
       "      <td>1,911</td>\n",
       "      <td>PG-13</td>\n",
       "      <td>376</td>\n",
       "      <td>2018</td>\n",
       "      <td>116</td>\n",
       "      <td>Biography,Comedy,Drama</td>\n",
       "      <td>6.2</td>\n",
       "      <td>24570</td>\n",
       "      <td>9</td>\n",
       "      <td>NaN</td>\n",
       "      <td>Steve Starkey</td>\n",
       "      <td>tt0109830,tt0118884,tt1907668,tt0162222</td>\n",
       "    </tr>\n",
       "    <tr>\n",
       "      <th>4</th>\n",
       "      <td>Welcome to Marwen</td>\n",
       "      <td>13061491</td>\n",
       "      <td>Universal Pictures</td>\n",
       "      <td>1,911</td>\n",
       "      <td>PG-13</td>\n",
       "      <td>376</td>\n",
       "      <td>2018</td>\n",
       "      <td>116</td>\n",
       "      <td>Biography,Comedy,Drama</td>\n",
       "      <td>6.2</td>\n",
       "      <td>24570</td>\n",
       "      <td>9</td>\n",
       "      <td>NaN</td>\n",
       "      <td>Steve Starkey</td>\n",
       "      <td>tt0109830,tt0118884,tt1907668,tt0162222</td>\n",
       "    </tr>\n",
       "  </tbody>\n",
       "</table>\n",
       "</div>"
      ],
      "text/plain": [
       "             originalTitle  world_revenue            distributor  \\\n",
       "0                 Super 30       24701637  Reliance Big Pictures   \n",
       "1                 Ad Astra      127461872  Twentieth Century Fox   \n",
       "2  The Art of Self-Defense        2414269  Bleecker Street Media   \n",
       "3        Welcome to Marwen       13061491     Universal Pictures   \n",
       "4        Welcome to Marwen       13061491     Universal Pictures   \n",
       "\n",
       "  opening_theaters   MPAA  release_days  startYear runtimeMinutes  \\\n",
       "0              317    NaN           173       2019            154   \n",
       "1            3,460  PG-13           105       2019            123   \n",
       "2                7      R           173       2019            104   \n",
       "3            1,911  PG-13           376       2018            116   \n",
       "4            1,911  PG-13           376       2018            116   \n",
       "\n",
       "                  genres_y  averageRating  numVotes  ordering characters  \\\n",
       "0          Biography,Drama            7.9     33523         9        NaN   \n",
       "1  Adventure,Drama,Mystery            6.5    239699         9        NaN   \n",
       "2      Action,Comedy,Crime            6.6     38502         9        NaN   \n",
       "3   Biography,Comedy,Drama            6.2     24570         9        NaN   \n",
       "4   Biography,Comedy,Drama            6.2     24570         9        NaN   \n",
       "\n",
       "            primaryName                            knownForTitles  \n",
       "0      Sajid Nadiadwala   tt7518786,tt2372222,tt8366590,tt7721946  \n",
       "1        Jeremy Kleiner   tt2024544,tt1020072,tt4975722,tt7125860  \n",
       "2  Stephanie Whonsetler  tt6269368,tt10962368,tt7339248,tt4595186  \n",
       "3         Steve Starkey   tt0109830,tt0118884,tt1907668,tt0162222  \n",
       "4         Steve Starkey   tt0109830,tt0118884,tt1907668,tt0162222  "
      ]
     },
     "execution_count": 8,
     "metadata": {},
     "output_type": "execute_result"
    }
   ],
   "source": [
    "new_df.head()"
   ]
  },
  {
   "cell_type": "code",
   "execution_count": 9,
   "id": "ac737d26",
   "metadata": {},
   "outputs": [
    {
     "data": {
      "text/plain": [
       "0        317\n",
       "1      3,460\n",
       "2          7\n",
       "3      1,911\n",
       "4      1,911\n",
       "       ...  \n",
       "931    3,134\n",
       "932       56\n",
       "933    2,378\n",
       "934    2,378\n",
       "935    3,038\n",
       "Name: opening_theaters, Length: 936, dtype: object"
      ]
     },
     "execution_count": 9,
     "metadata": {},
     "output_type": "execute_result"
    }
   ],
   "source": [
    "new_df['opening_theaters']"
   ]
  },
  {
   "cell_type": "code",
   "execution_count": 16,
   "id": "77b5b44b",
   "metadata": {},
   "outputs": [],
   "source": [
    "new_df['opening_theaters'] = new_df.opening_theaters.str.replace(',','',regex=True)"
   ]
  },
  {
   "cell_type": "code",
   "execution_count": 18,
   "id": "c5754d60",
   "metadata": {},
   "outputs": [
    {
     "data": {
      "text/plain": [
       "dtype('O')"
      ]
     },
     "execution_count": 18,
     "metadata": {},
     "output_type": "execute_result"
    }
   ],
   "source": [
    "new_df['opening_theaters'].dtypes"
   ]
  },
  {
   "cell_type": "markdown",
   "id": "e7112f22",
   "metadata": {},
   "source": [
    "# Problem"
   ]
  },
  {
   "cell_type": "markdown",
   "id": "34a749f5",
   "metadata": {},
   "source": [
    "we have 935 different rows of continuous integer data but dtypes is object"
   ]
  },
  {
   "cell_type": "code",
   "execution_count": 10,
   "id": "1e8c737c",
   "metadata": {},
   "outputs": [],
   "source": [
    "#invalid parsing will be set as NaN by the parameter errors = 'coerce'\n",
    "new_df['opening_theaters'] = pd.to_numeric(new_df['opening_theaters'], errors='coerce')\n"
   ]
  },
  {
   "cell_type": "code",
   "execution_count": 11,
   "id": "0f9456ea",
   "metadata": {},
   "outputs": [
    {
     "data": {
      "text/plain": [
       "dtype('float64')"
      ]
     },
     "execution_count": 11,
     "metadata": {},
     "output_type": "execute_result"
    }
   ],
   "source": [
    "new_df['opening_theaters'].dtypes"
   ]
  },
  {
   "cell_type": "code",
   "execution_count": 12,
   "id": "9d258544",
   "metadata": {},
   "outputs": [
    {
     "data": {
      "text/plain": [
       "originalTitle         0\n",
       "world_revenue         0\n",
       "distributor           0\n",
       "opening_theaters    596\n",
       "MPAA                 79\n",
       "release_days          0\n",
       "startYear             0\n",
       "runtimeMinutes       20\n",
       "genres_y              1\n",
       "averageRating         0\n",
       "numVotes              0\n",
       "ordering              0\n",
       "characters          912\n",
       "primaryName           0\n",
       "knownForTitles        4\n",
       "dtype: int64"
      ]
     },
     "execution_count": 12,
     "metadata": {},
     "output_type": "execute_result"
    }
   ],
   "source": [
    "new_df.isnull().sum()"
   ]
  },
  {
   "cell_type": "code",
   "execution_count": 13,
   "id": "dff54950",
   "metadata": {},
   "outputs": [
    {
     "data": {
      "text/plain": [
       "dtype('O')"
      ]
     },
     "execution_count": 13,
     "metadata": {},
     "output_type": "execute_result"
    }
   ],
   "source": [
    "df['MPAA'].dtype"
   ]
  },
  {
   "cell_type": "code",
   "execution_count": 14,
   "id": "11f7b31c",
   "metadata": {},
   "outputs": [
    {
     "data": {
      "text/plain": [
       "R            399\n",
       "PG-13        304\n",
       "PG           145\n",
       "G              7\n",
       "Not Rated      2\n",
       "Name: MPAA, dtype: int64"
      ]
     },
     "execution_count": 14,
     "metadata": {},
     "output_type": "execute_result"
    }
   ],
   "source": [
    "df['MPAA'].value_counts()"
   ]
  },
  {
   "cell_type": "code",
   "execution_count": 15,
   "id": "b3b39d33",
   "metadata": {},
   "outputs": [
    {
     "data": {
      "text/plain": [
       "0    R\n",
       "Name: MPAA, dtype: object"
      ]
     },
     "execution_count": 15,
     "metadata": {},
     "output_type": "execute_result"
    }
   ],
   "source": [
    "mode = df['MPAA'].mode()\n",
    "mode"
   ]
  },
  {
   "cell_type": "code",
   "execution_count": 16,
   "id": "447ca60c",
   "metadata": {},
   "outputs": [],
   "source": [
    "new_df['MPAA'] = new_df['MPAA'].fillna('R')"
   ]
  },
  {
   "cell_type": "code",
   "execution_count": 17,
   "id": "da941c85",
   "metadata": {},
   "outputs": [
    {
     "data": {
      "text/plain": [
       "0"
      ]
     },
     "execution_count": 17,
     "metadata": {},
     "output_type": "execute_result"
    }
   ],
   "source": [
    "new_df['MPAA'].isnull().sum()"
   ]
  },
  {
   "cell_type": "code",
   "execution_count": 18,
   "id": "00ef9038",
   "metadata": {},
   "outputs": [
    {
     "data": {
      "text/plain": [
       "596"
      ]
     },
     "execution_count": 18,
     "metadata": {},
     "output_type": "execute_result"
    }
   ],
   "source": [
    "new_df['opening_theaters'].isnull().sum()"
   ]
  },
  {
   "cell_type": "code",
   "execution_count": 19,
   "id": "ae3851b4",
   "metadata": {},
   "outputs": [
    {
     "data": {
      "text/plain": [
       "array([317.,  nan,   7.,   4., 320., 381., 311., 301.,   1., 997., 101.,\n",
       "       263.,   6.,   3.,   5.,  89., 270., 305.,   2.,  19., 873., 922.,\n",
       "       258., 853., 613., 120.,   8.,  17.,  33., 461.,  25., 198., 673.,\n",
       "       629., 830.,  14., 544., 503., 755.,   9., 650., 300.,  45.,  75.,\n",
       "       112., 475.,  66.,  32.,  74., 450., 471., 408.,  30., 388., 283.,\n",
       "       259.,  23., 900.,  24., 401., 865., 413.,  58., 191., 114., 250.,\n",
       "       421., 208., 319., 330., 227., 816.,  51., 343., 308., 201., 239.,\n",
       "       186., 216., 202.,  20., 123., 130., 519., 122., 534.,  70.,  13.,\n",
       "       543., 477.,  68., 248., 501.,  90., 298., 249., 440., 814., 172.,\n",
       "       356., 326., 104.,  34.,  16.,  29.,  36., 786., 222., 369., 195.,\n",
       "        59., 442., 529., 527.,  44., 102., 704.,  57., 100., 169.,  81.,\n",
       "       327., 912., 265., 460.,  85., 871., 129., 970., 387., 247.,  69.,\n",
       "       389.,  10.,  48.,  12., 547., 562., 665., 500., 752., 400., 246.,\n",
       "       580., 491., 552., 640., 927., 132., 996.,  27., 350., 614., 924.,\n",
       "       357., 299.,  11.,  52., 279., 516., 162.,  41., 315., 280., 923.,\n",
       "       785., 396., 110., 833.,  67., 318., 489., 872., 415., 230., 558.,\n",
       "       465., 800., 764., 805., 470., 773., 854., 797., 170., 998., 498.,\n",
       "       803., 810., 770., 980., 696., 565., 373.,  56.])"
      ]
     },
     "execution_count": 19,
     "metadata": {},
     "output_type": "execute_result"
    }
   ],
   "source": [
    "new_df['opening_theaters'].unique()"
   ]
  },
  {
   "cell_type": "code",
   "execution_count": 20,
   "id": "fb86bf9f",
   "metadata": {},
   "outputs": [
    {
     "name": "stdout",
     "output_type": "stream",
     "text": [
      "790\n"
     ]
    }
   ],
   "source": [
    "remove_duplicate  =set(new_df['opening_theaters'])\n",
    "count = len(remove_duplicate)\n",
    "print(count)"
   ]
  },
  {
   "cell_type": "code",
   "execution_count": 21,
   "id": "e0d0d710",
   "metadata": {},
   "outputs": [
    {
     "data": {
      "text/plain": [
       "0    4.0\n",
       "Name: opening_theaters, dtype: float64"
      ]
     },
     "execution_count": 21,
     "metadata": {},
     "output_type": "execute_result"
    }
   ],
   "source": [
    "new_df['opening_theaters'].mode()"
   ]
  },
  {
   "cell_type": "code",
   "execution_count": 23,
   "id": "7e55fe23",
   "metadata": {},
   "outputs": [
    {
     "data": {
      "text/plain": [
       "Text(0.5, 1.0, 'opening_theaters null--->1 not null--->0')"
      ]
     },
     "execution_count": 23,
     "metadata": {},
     "output_type": "execute_result"
    },
    {
     "data": {
      "image/png": "[encoded data removed]",
      "text/plain": [
       "<Figure size 640x480 with 1 Axes>"
      ]
     },
     "metadata": {},
     "output_type": "display_data"
    }
   ],
   "source": [
    "data = new_df.copy()\n",
    "import matplotlib.pyplot as plt\n",
    "data['opening_theaters'] = np.where(data['opening_theaters'].isnull(),1,0)\n",
    "#groupy function group the data and by computing the median we plot bar graph of 2 feature\n",
    "data.groupby('opening_theaters')['world_revenue'].median().plot.bar()\n",
    "plt.title('opening_theaters null--->1 not null--->0')"
   ]
  },
  {
   "cell_type": "code",
   "execution_count": 26,
   "id": "14316bde",
   "metadata": {},
   "outputs": [
    {
     "data": {
      "text/plain": [
       "dtype('O')"
      ]
     },
     "execution_count": 26,
     "metadata": {},
     "output_type": "execute_result"
    }
   ],
   "source": [
    "new_df['runtimeMinutes'].dtype"
   ]
  },
  {
   "cell_type": "code",
   "execution_count": 24,
   "id": "52a56019",
   "metadata": {},
   "outputs": [
    {
     "data": {
      "text/plain": [
       "array(['154', '123', '104', '116', '98', '118', '166', '134', '170', '94',\n",
       "       '150', '158', '105', '95', '112', '138', '130', '107', '97', '55',\n",
       "       '89', '85', '99', '91', '111', nan, '82', '121', '114', '103',\n",
       "       '96', '100', '102', '109', '84', '101', '149', '124', '76', '106',\n",
       "       '144', '90', '133', '92', '54', '93', '126', '47', '136', '119',\n",
       "       '120', '131', '110', '87', '108', '135', '132', '148', '152',\n",
       "       '125', '72', '117', '128', '122', '86', '129', '143', '137', '161',\n",
       "       '169', '141', '139', '155', '80', '181', '113', '115', '75', '45',\n",
       "       '78', '81', '88', '145', '53', '140', '164', '60', '69', '174',\n",
       "       '179', '127', '83', '151', '156', '163', '147', '65', '70', '160',\n",
       "       '175', '168', '159', '74', '195', '167', '189', '61', '142', '192',\n",
       "       '176', '165', '52'], dtype=object)"
      ]
     },
     "execution_count": 24,
     "metadata": {},
     "output_type": "execute_result"
    }
   ],
   "source": [
    "new_df['runtimeMinutes'].unique()"
   ]
  },
  {
   "cell_type": "code",
   "execution_count": 28,
   "id": "83f62879",
   "metadata": {},
   "outputs": [
    {
     "data": {
      "text/plain": [
       "20"
      ]
     },
     "execution_count": 28,
     "metadata": {},
     "output_type": "execute_result"
    }
   ],
   "source": [
    "new_df['runtimeMinutes'].isnull().sum()"
   ]
  },
  {
   "cell_type": "code",
   "execution_count": 31,
   "id": "2b5666e1",
   "metadata": {},
   "outputs": [],
   "source": [
    "#invalid parsing will be set as NaN by the parameter errors = 'coerce'\n",
    "new_df['runtimeMinutes'] = pd.to_numeric(new_df['runtimeMinutes'], errors='coerce')"
   ]
  },
  {
   "cell_type": "code",
   "execution_count": 34,
   "id": "a3440ba2",
   "metadata": {},
   "outputs": [
    {
     "data": {
      "text/plain": [
       "nan"
      ]
     },
     "execution_count": 34,
     "metadata": {},
     "output_type": "execute_result"
    }
   ],
   "source": [
    "np.median(new_df['runtimeMinutes'])"
   ]
  },
  {
   "cell_type": "code",
   "execution_count": 41,
   "id": "4c2a5e3d",
   "metadata": {},
   "outputs": [],
   "source": [
    "def normal_pdf(x):\n",
    "    return 1 / (np.std(x) * np.sqrt(2 * np.pi)) * np.exp(-0.5 * ((x - np.mean(x)) / np.std(x))**2)"
   ]
  },
  {
   "cell_type": "code",
   "execution_count": 48,
   "id": "f0ef932e",
   "metadata": {
    "scrolled": false
   },
   "outputs": [
    {
     "ename": "ValueError",
     "evalue": "The truth value of a Series is ambiguous. Use a.empty, a.bool(), a.item(), a.any() or a.all().",
     "output_type": "error",
     "traceback": [
      "\u001b[0;31m---------------------------------------------------------------------------\u001b[0m",
      "\u001b[0;31mValueError\u001b[0m                                Traceback (most recent call last)",
      "\u001b[0;32m/tmp/ipykernel_11042/1699803934.py\u001b[0m in \u001b[0;36m<module>\u001b[0;34m\u001b[0m\n\u001b[0;32m----> 1\u001b[0;31m \u001b[0mfeature_with_num\u001b[0m \u001b[0;34m=\u001b[0m \u001b[0;34m[\u001b[0m\u001b[0mfeature\u001b[0m \u001b[0;32mfor\u001b[0m \u001b[0mfeature\u001b[0m \u001b[0;32min\u001b[0m \u001b[0mnew_df\u001b[0m\u001b[0;34m.\u001b[0m\u001b[0mcolumns\u001b[0m \u001b[0;32mif\u001b[0m \u001b[0mnew_df\u001b[0m\u001b[0;34m[\u001b[0m\u001b[0mfeature\u001b[0m\u001b[0;34m]\u001b[0m\u001b[0;34m.\u001b[0m\u001b[0mdtypes\u001b[0m\u001b[0;34m!=\u001b[0m\u001b[0;34m'O'\u001b[0m \u001b[0;32mand\u001b[0m \u001b[0mdf\u001b[0m\u001b[0;34m[\u001b[0m\u001b[0mfeature\u001b[0m\u001b[0;34m]\u001b[0m\u001b[0;34m!=\u001b[0m\u001b[0;34m'opening_theaters'\u001b[0m\u001b[0;34m]\u001b[0m\u001b[0;34m\u001b[0m\u001b[0;34m\u001b[0m\u001b[0m\n\u001b[0m\u001b[1;32m      2\u001b[0m \u001b[0;32mfor\u001b[0m \u001b[0mfeature\u001b[0m \u001b[0;32min\u001b[0m \u001b[0mfeature_with_num\u001b[0m\u001b[0;34m:\u001b[0m\u001b[0;34m\u001b[0m\u001b[0;34m\u001b[0m\u001b[0m\n\u001b[1;32m      3\u001b[0m     \u001b[0mmean_\u001b[0m \u001b[0;34m=\u001b[0m \u001b[0mnp\u001b[0m\u001b[0;34m.\u001b[0m\u001b[0mmean\u001b[0m\u001b[0;34m(\u001b[0m\u001b[0mdf\u001b[0m\u001b[0;34m[\u001b[0m\u001b[0mfeature\u001b[0m\u001b[0;34m]\u001b[0m\u001b[0;34m)\u001b[0m\u001b[0;34m\u001b[0m\u001b[0;34m\u001b[0m\u001b[0m\n\u001b[1;32m      4\u001b[0m     \u001b[0mstd_\u001b[0m \u001b[0;34m=\u001b[0m \u001b[0mnp\u001b[0m\u001b[0;34m.\u001b[0m\u001b[0mstd\u001b[0m\u001b[0;34m(\u001b[0m\u001b[0mdf\u001b[0m\u001b[0;34m[\u001b[0m\u001b[0mfeature\u001b[0m\u001b[0;34m]\u001b[0m\u001b[0;34m)\u001b[0m\u001b[0;34m\u001b[0m\u001b[0;34m\u001b[0m\u001b[0m\n\u001b[1;32m      5\u001b[0m \u001b[0;34m\u001b[0m\u001b[0m\n",
      "\u001b[0;32m/tmp/ipykernel_11042/1699803934.py\u001b[0m in \u001b[0;36m<listcomp>\u001b[0;34m(.0)\u001b[0m\n\u001b[0;32m----> 1\u001b[0;31m \u001b[0mfeature_with_num\u001b[0m \u001b[0;34m=\u001b[0m \u001b[0;34m[\u001b[0m\u001b[0mfeature\u001b[0m \u001b[0;32mfor\u001b[0m \u001b[0mfeature\u001b[0m \u001b[0;32min\u001b[0m \u001b[0mnew_df\u001b[0m\u001b[0;34m.\u001b[0m\u001b[0mcolumns\u001b[0m \u001b[0;32mif\u001b[0m \u001b[0mnew_df\u001b[0m\u001b[0;34m[\u001b[0m\u001b[0mfeature\u001b[0m\u001b[0;34m]\u001b[0m\u001b[0;34m.\u001b[0m\u001b[0mdtypes\u001b[0m\u001b[0;34m!=\u001b[0m\u001b[0;34m'O'\u001b[0m \u001b[0;32mand\u001b[0m \u001b[0mdf\u001b[0m\u001b[0;34m[\u001b[0m\u001b[0mfeature\u001b[0m\u001b[0;34m]\u001b[0m\u001b[0;34m!=\u001b[0m\u001b[0;34m'opening_theaters'\u001b[0m\u001b[0;34m]\u001b[0m\u001b[0;34m\u001b[0m\u001b[0;34m\u001b[0m\u001b[0m\n\u001b[0m\u001b[1;32m      2\u001b[0m \u001b[0;32mfor\u001b[0m \u001b[0mfeature\u001b[0m \u001b[0;32min\u001b[0m \u001b[0mfeature_with_num\u001b[0m\u001b[0;34m:\u001b[0m\u001b[0;34m\u001b[0m\u001b[0;34m\u001b[0m\u001b[0m\n\u001b[1;32m      3\u001b[0m     \u001b[0mmean_\u001b[0m \u001b[0;34m=\u001b[0m \u001b[0mnp\u001b[0m\u001b[0;34m.\u001b[0m\u001b[0mmean\u001b[0m\u001b[0;34m(\u001b[0m\u001b[0mdf\u001b[0m\u001b[0;34m[\u001b[0m\u001b[0mfeature\u001b[0m\u001b[0;34m]\u001b[0m\u001b[0;34m)\u001b[0m\u001b[0;34m\u001b[0m\u001b[0;34m\u001b[0m\u001b[0m\n\u001b[1;32m      4\u001b[0m     \u001b[0mstd_\u001b[0m \u001b[0;34m=\u001b[0m \u001b[0mnp\u001b[0m\u001b[0;34m.\u001b[0m\u001b[0mstd\u001b[0m\u001b[0;34m(\u001b[0m\u001b[0mdf\u001b[0m\u001b[0;34m[\u001b[0m\u001b[0mfeature\u001b[0m\u001b[0;34m]\u001b[0m\u001b[0;34m)\u001b[0m\u001b[0;34m\u001b[0m\u001b[0;34m\u001b[0m\u001b[0m\n\u001b[1;32m      5\u001b[0m \u001b[0;34m\u001b[0m\u001b[0m\n",
      "\u001b[0;32m~/anaconda/lib/python3.9/site-packages/pandas/core/generic.py\u001b[0m in \u001b[0;36m__nonzero__\u001b[0;34m(self)\u001b[0m\n\u001b[1;32m   1525\u001b[0m     \u001b[0;34m@\u001b[0m\u001b[0mfinal\u001b[0m\u001b[0;34m\u001b[0m\u001b[0;34m\u001b[0m\u001b[0m\n\u001b[1;32m   1526\u001b[0m     \u001b[0;32mdef\u001b[0m \u001b[0m__nonzero__\u001b[0m\u001b[0;34m(\u001b[0m\u001b[0mself\u001b[0m\u001b[0;34m)\u001b[0m\u001b[0;34m:\u001b[0m\u001b[0;34m\u001b[0m\u001b[0;34m\u001b[0m\u001b[0m\n\u001b[0;32m-> 1527\u001b[0;31m         raise ValueError(\n\u001b[0m\u001b[1;32m   1528\u001b[0m             \u001b[0;34mf\"The truth value of a {type(self).__name__} is ambiguous. \"\u001b[0m\u001b[0;34m\u001b[0m\u001b[0;34m\u001b[0m\u001b[0m\n\u001b[1;32m   1529\u001b[0m             \u001b[0;34m\"Use a.empty, a.bool(), a.item(), a.any() or a.all().\"\u001b[0m\u001b[0;34m\u001b[0m\u001b[0;34m\u001b[0m\u001b[0m\n",
      "\u001b[0;31mValueError\u001b[0m: The truth value of a Series is ambiguous. Use a.empty, a.bool(), a.item(), a.any() or a.all()."
     ]
    }
   ],
   "source": [
    "feature_with_num = [feature for feature in new_df.columns if new_df[feature].dtypes!='O' and feature'opening_theaters']\n",
    "for feature in feature_with_num:\n",
    "    mean_ = np.mean(df[feature])\n",
    "    std_ = np.std(df[feature])\n",
    "\n",
    "    # Create histogram of the data\n",
    "    plt.hist(df[feature], bins=30, density=True, alpha=0.6, color='blue')\n",
    "\n",
    "    # Create normal distribution curve with same mean and standard deviation as data for empirical rule or the 68-95-99.7 rule\n",
    "    x = np.linspace(mean_ - 3*std_, mean_ + 3*std_, 100)\n",
    "    plt.plot(x, normal_pdf(x), color='red')\n",
    "\n",
    "    # Set plot labels and title\n",
    "    plt.xlabel(feature)\n",
    "    plt.ylabel('Probability Density')\n",
    "    plt.title('Histogram and Normal Distribution Curve of Data')\n",
    "\n",
    "    # Show plot\n",
    "    plt.show()"
   ]
  },
  {
   "cell_type": "code",
   "execution_count": 44,
   "id": "a4fe5efb",
   "metadata": {},
   "outputs": [
    {
     "data": {
      "text/html": [
       "<div>\n",
       "<style scoped>\n",
       "    .dataframe tbody tr th:only-of-type {\n",
       "        vertical-align: middle;\n",
       "    }\n",
       "\n",
       "    .dataframe tbody tr th {\n",
       "        vertical-align: top;\n",
       "    }\n",
       "\n",
       "    .dataframe thead th {\n",
       "        text-align: right;\n",
       "    }\n",
       "</style>\n",
       "<table border=\"1\" class=\"dataframe\">\n",
       "  <thead>\n",
       "    <tr style=\"text-align: right;\">\n",
       "      <th></th>\n",
       "      <th>world_revenue</th>\n",
       "      <th>opening_theaters</th>\n",
       "      <th>release_days</th>\n",
       "      <th>startYear</th>\n",
       "      <th>runtimeMinutes</th>\n",
       "      <th>averageRating</th>\n",
       "      <th>numVotes</th>\n",
       "      <th>ordering</th>\n",
       "    </tr>\n",
       "  </thead>\n",
       "  <tbody>\n",
       "    <tr>\n",
       "      <th>0</th>\n",
       "      <td>24701637</td>\n",
       "      <td>317.0</td>\n",
       "      <td>173</td>\n",
       "      <td>2019</td>\n",
       "      <td>154.0</td>\n",
       "      <td>7.9</td>\n",
       "      <td>33523</td>\n",
       "      <td>9</td>\n",
       "    </tr>\n",
       "    <tr>\n",
       "      <th>1</th>\n",
       "      <td>127461872</td>\n",
       "      <td>NaN</td>\n",
       "      <td>105</td>\n",
       "      <td>2019</td>\n",
       "      <td>123.0</td>\n",
       "      <td>6.5</td>\n",
       "      <td>239699</td>\n",
       "      <td>9</td>\n",
       "    </tr>\n",
       "    <tr>\n",
       "      <th>2</th>\n",
       "      <td>2414269</td>\n",
       "      <td>7.0</td>\n",
       "      <td>173</td>\n",
       "      <td>2019</td>\n",
       "      <td>104.0</td>\n",
       "      <td>6.6</td>\n",
       "      <td>38502</td>\n",
       "      <td>9</td>\n",
       "    </tr>\n",
       "    <tr>\n",
       "      <th>3</th>\n",
       "      <td>13061491</td>\n",
       "      <td>NaN</td>\n",
       "      <td>376</td>\n",
       "      <td>2018</td>\n",
       "      <td>116.0</td>\n",
       "      <td>6.2</td>\n",
       "      <td>24570</td>\n",
       "      <td>9</td>\n",
       "    </tr>\n",
       "    <tr>\n",
       "      <th>4</th>\n",
       "      <td>13061491</td>\n",
       "      <td>NaN</td>\n",
       "      <td>376</td>\n",
       "      <td>2018</td>\n",
       "      <td>116.0</td>\n",
       "      <td>6.2</td>\n",
       "      <td>24570</td>\n",
       "      <td>9</td>\n",
       "    </tr>\n",
       "  </tbody>\n",
       "</table>\n",
       "</div>"
      ],
      "text/plain": [
       "   world_revenue  opening_theaters  release_days  startYear  runtimeMinutes  \\\n",
       "0       24701637             317.0           173       2019           154.0   \n",
       "1      127461872               NaN           105       2019           123.0   \n",
       "2        2414269               7.0           173       2019           104.0   \n",
       "3       13061491               NaN           376       2018           116.0   \n",
       "4       13061491               NaN           376       2018           116.0   \n",
       "\n",
       "   averageRating  numVotes  ordering  \n",
       "0            7.9     33523         9  \n",
       "1            6.5    239699         9  \n",
       "2            6.6     38502         9  \n",
       "3            6.2     24570         9  \n",
       "4            6.2     24570         9  "
      ]
     },
     "execution_count": 44,
     "metadata": {},
     "output_type": "execute_result"
    }
   ],
   "source": [
    "new_df[feature_with_num].head()"
   ]
  },
  {
   "cell_type": "code",
   "execution_count": 1,
   "id": "549c7ecd",
   "metadata": {},
   "outputs": [],
   "source": [
    "import os\n",
    "os.chdir('../')"
   ]
  },
  {
   "cell_type": "code",
   "execution_count": 2,
   "id": "ad5093db",
   "metadata": {},
   "outputs": [
    {
     "data": {
      "text/plain": [
       "['config',\n",
       " 'newFolderStructure .jpg',\n",
       " 'movies_logs',\n",
       " 'setup.py',\n",
       " 'Movies',\n",
       " 'test_run.py',\n",
       " 'venv',\n",
       " 'movie_grossincome_prediction.egg-info',\n",
       " 'artifact',\n",
       " 'README.md',\n",
       " 'dist',\n",
       " 'processflow.jpg',\n",
       " 'ProgramFlow.jpg',\n",
       " 'LICENCE',\n",
       " 'app.py',\n",
       " 'research',\n",
       " 'case_study.py',\n",
       " 'Dockerfile',\n",
       " 'build',\n",
       " '.gitignore',\n",
       " '.git',\n",
       " 'tests',\n",
       " 'stratified_sampling.jpg',\n",
       " 'requirements.txt']"
      ]
     },
     "execution_count": 2,
     "metadata": {},
     "output_type": "execute_result"
    }
   ],
   "source": [
    "os.listdir()"
   ]
  },
  {
   "cell_type": "code",
   "execution_count": 6,
   "id": "1d946bdd",
   "metadata": {},
   "outputs": [],
   "source": [
    "from Movies.component.data_validation import DataValidation"
   ]
  },
  {
   "cell_type": "code",
   "execution_count": 7,
   "id": "82d3e26e",
   "metadata": {},
   "outputs": [
    {
     "ename": "TypeError",
     "evalue": "initiate_data_validation() missing 1 required positional argument: 'self'",
     "output_type": "error",
     "traceback": [
      "\u001b[0;31m---------------------------------------------------------------------------\u001b[0m",
      "\u001b[0;31mTypeError\u001b[0m                                 Traceback (most recent call last)",
      "Cell \u001b[0;32mIn[7], line 1\u001b[0m\n\u001b[0;32m----> 1\u001b[0m DataValidation\u001b[39m.\u001b[39;49minitiate_data_validation()\n",
      "\u001b[0;31mTypeError\u001b[0m: initiate_data_validation() missing 1 required positional argument: 'self'"
     ]
    }
   ],
   "source": [
    "DataValidation.initiate_data_validation()"
   ]
  },
  {
   "cell_type": "code",
   "execution_count": 3,
   "id": "d95217ce",
   "metadata": {},
   "outputs": [],
   "source": [
    "from Movies.utils.read_yaml import read_yaml_file"
   ]
  },
  {
   "cell_type": "code",
   "execution_count": 4,
   "id": "bde727a0",
   "metadata": {},
   "outputs": [],
   "source": [
    "from Movies.entity.artifact_entity import DataValidationArtifact\n",
    "schema_file_path = DataValidationArtifact.schema_file_path"
   ]
  },
  {
   "cell_type": "code",
   "execution_count": 5,
   "id": "9498ae85",
   "metadata": {},
   "outputs": [
    {
     "data": {
      "text/plain": [
       "_tuplegetter(0, 'Alias for field number 0')"
      ]
     },
     "execution_count": 5,
     "metadata": {},
     "output_type": "execute_result"
    }
   ],
   "source": [
    "schema_file_path"
   ]
  },
  {
   "cell_type": "code",
   "execution_count": null,
   "id": "054ba74f",
   "metadata": {},
   "outputs": [],
   "source": []
  }
 ],
 "metadata": {
  "kernelspec": {
   "display_name": "Python 3",
   "language": "python",
   "name": "python3"
  },
  "language_info": {
   "codemirror_mode": {
    "name": "ipython",
    "version": 3
   },
   "file_extension": ".py",
   "mimetype": "text/x-python",
   "name": "python",
   "nbconvert_exporter": "python",
   "pygments_lexer": "ipython3",
   "version": "3.9.0 (default, Nov 15 2020, 14:28:56) \n[GCC 7.3.0]"
  },
  "vscode": {
   "interpreter": {
    "hash": "69adc54f8b6ceb0c9ea6799f86aa1fa0e8f1114eca396a156d6c3c59042af11b"
   }
  }
 },
 "nbformat": 4,
 "nbformat_minor": 5
}
