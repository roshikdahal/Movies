{
 "cells": [
  {
   "cell_type": "code",
   "execution_count": 1,
   "metadata": {},
   "outputs": [],
   "source": [
    "import os\n",
    "os.chdir(\"..\")"
   ]
  },
  {
   "cell_type": "code",
   "execution_count": 2,
   "metadata": {},
   "outputs": [
    {
     "data": {
      "text/plain": [
       "['config',\n",
       " 'movies_logs',\n",
       " 'setup.py',\n",
       " 'Movies',\n",
       " 'venv',\n",
       " 'movie_grossincome_prediction.egg-info',\n",
       " 'README.md',\n",
       " 'dist',\n",
       " 'LICENCE',\n",
       " 'app.py',\n",
       " 'research',\n",
       " 'Dockerfile',\n",
       " 'build',\n",
       " '.gitignore',\n",
       " '.git',\n",
       " 'requirements.txt']"
      ]
     },
     "execution_count": 2,
     "metadata": {},
     "output_type": "execute_result"
    }
   ],
   "source": [
    "os.listdir()"
   ]
  },
  {
   "cell_type": "code",
   "execution_count": 10,
   "metadata": {},
   "outputs": [],
   "source": [
    "from Movies.entity.config_entity import DataIngestionConfig\n",
    "dataIngest = DataIngestionConfig"
   ]
  },
  {
   "cell_type": "code",
   "execution_count": 11,
   "metadata": {},
   "outputs": [
    {
     "data": {
      "text/plain": [
       "_tuplegetter(0, 'Alias for field number 0')"
      ]
     },
     "execution_count": 11,
     "metadata": {},
     "output_type": "execute_result"
    }
   ],
   "source": [
    "\n",
    "dataIngest.dataset_download_url"
   ]
  },
  {
   "cell_type": "code",
   "execution_count": 3,
   "metadata": {},
   "outputs": [],
   "source": [
    "import os\n",
    "os.chdir(\"..\")"
   ]
  },
  {
   "cell_type": "code",
   "execution_count": 10,
   "metadata": {},
   "outputs": [],
   "source": [
    "os.chdir('boxofficeinfo')"
   ]
  },
  {
   "cell_type": "code",
   "execution_count": 4,
   "metadata": {},
   "outputs": [
    {
     "data": {
      "text/plain": [
       "['config',\n",
       " 'movies_logs',\n",
       " 'setup.py',\n",
       " 'Movies',\n",
       " 'venv',\n",
       " 'movie_grossincome_prediction.egg-info',\n",
       " 'README.md',\n",
       " 'dist',\n",
       " 'LICENCE',\n",
       " 'app.py',\n",
       " 'research',\n",
       " 'Dockerfile',\n",
       " 'build',\n",
       " 'housing.csv',\n",
       " '.gitignore',\n",
       " '.git',\n",
       " 'requirements.txt']"
      ]
     },
     "execution_count": 4,
     "metadata": {},
     "output_type": "execute_result"
    }
   ],
   "source": [
    "\n",
    "os.listdir()"
   ]
  },
  {
   "cell_type": "code",
   "execution_count": 5,
   "metadata": {},
   "outputs": [],
   "source": [
    "import pandas as pd\n",
    "df = pd.read_csv(\"housing.csv\")\n"
   ]
  },
  {
   "cell_type": "code",
   "execution_count": 6,
   "metadata": {},
   "outputs": [],
   "source": [
    "import numpy as np\n",
    "df[\"revenue_cat\"] = pd.cut(\n",
    "                df[\"median_income\"],\n",
    "                bins=[0.0, 1.5, 3.0, 4.5, 6.0, np.inf],\n",
    "                labels=[1,2,3,4,5]\n",
    "            )"
   ]
  },
  {
   "cell_type": "code",
   "execution_count": 14,
   "metadata": {},
   "outputs": [
    {
     "data": {
      "text/plain": [
       "0     $24,701,637\n",
       "1    $127,461,872\n",
       "2      $2,414,269\n",
       "3     $13,061,491\n",
       "4     $13,061,491\n",
       "Name: world_revenue, dtype: object"
      ]
     },
     "execution_count": 14,
     "metadata": {},
     "output_type": "execute_result"
    }
   ],
   "source": [
    "df[\"world_revenue\"].head()"
   ]
  },
  {
   "cell_type": "code",
   "execution_count": null,
   "metadata": {},
   "outputs": [],
   "source": []
  }
 ],
 "metadata": {
  "kernelspec": {
   "display_name": "Python 3",
   "language": "python",
   "name": "python3"
  },
  "language_info": {
   "codemirror_mode": {
    "name": "ipython",
    "version": 3
   },
   "file_extension": ".py",
   "mimetype": "text/x-python",
   "name": "python",
   "nbconvert_exporter": "python",
   "pygments_lexer": "ipython3",
   "version": "3.9.0"
  },
  "orig_nbformat": 4,
  "vscode": {
   "interpreter": {
    "hash": "69adc54f8b6ceb0c9ea6799f86aa1fa0e8f1114eca396a156d6c3c59042af11b"
   }
  }
 },
 "nbformat": 4,
 "nbformat_minor": 2
}
