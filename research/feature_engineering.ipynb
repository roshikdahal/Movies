{
 "cells": [
  {
   "cell_type": "code",
   "execution_count": 1,
   "id": "d87d31a3",
   "metadata": {},
   "outputs": [
    {
     "data": {
      "text/html": [
       "<div>\n",
       "<style scoped>\n",
       "    .dataframe tbody tr th:only-of-type {\n",
       "        vertical-align: middle;\n",
       "    }\n",
       "\n",
       "    .dataframe tbody tr th {\n",
       "        vertical-align: top;\n",
       "    }\n",
       "\n",
       "    .dataframe thead th {\n",
       "        text-align: right;\n",
       "    }\n",
       "</style>\n",
       "<table border=\"1\" class=\"dataframe\">\n",
       "  <thead>\n",
       "    <tr style=\"text-align: right;\">\n",
       "      <th></th>\n",
       "      <th>Unnamed: 0.1</th>\n",
       "      <th>Unnamed: 0</th>\n",
       "      <th>originalTitle</th>\n",
       "      <th>domestic_revenue</th>\n",
       "      <th>world_revenue</th>\n",
       "      <th>distributor</th>\n",
       "      <th>opening_revenue</th>\n",
       "      <th>opening_theaters</th>\n",
       "      <th>budget</th>\n",
       "      <th>MPAA</th>\n",
       "      <th>genres_x</th>\n",
       "      <th>release_days</th>\n",
       "      <th>tconst</th>\n",
       "      <th>titleType</th>\n",
       "      <th>isAdult</th>\n",
       "      <th>startYear</th>\n",
       "      <th>runtimeMinutes</th>\n",
       "      <th>genres_y</th>\n",
       "      <th>averageRating</th>\n",
       "      <th>numVotes</th>\n",
       "      <th>ordering</th>\n",
       "      <th>nconst</th>\n",
       "      <th>category</th>\n",
       "      <th>job</th>\n",
       "      <th>characters</th>\n",
       "      <th>primaryName</th>\n",
       "      <th>birthYear</th>\n",
       "      <th>deathYear</th>\n",
       "      <th>primaryProfession</th>\n",
       "      <th>knownForTitles</th>\n",
       "    </tr>\n",
       "  </thead>\n",
       "  <tbody>\n",
       "    <tr>\n",
       "      <th>0</th>\n",
       "      <td>0</td>\n",
       "      <td>0</td>\n",
       "      <td>Super 30</td>\n",
       "      <td>$2,269,878</td>\n",
       "      <td>24701637</td>\n",
       "      <td>Reliance Big Pictures</td>\n",
       "      <td>$871,256</td>\n",
       "      <td>317</td>\n",
       "      <td>NaN</td>\n",
       "      <td>NaN</td>\n",
       "      <td>Biography,Drama</td>\n",
       "      <td>173</td>\n",
       "      <td>tt7485048</td>\n",
       "      <td>movie</td>\n",
       "      <td>0</td>\n",
       "      <td>2019</td>\n",
       "      <td>154.0</td>\n",
       "      <td>Biography,Drama</td>\n",
       "      <td>7.9</td>\n",
       "      <td>33523</td>\n",
       "      <td>9</td>\n",
       "      <td>nm0618898</td>\n",
       "      <td>producer</td>\n",
       "      <td>producer</td>\n",
       "      <td>NaN</td>\n",
       "      <td>Sajid Nadiadwala</td>\n",
       "      <td>1966.0</td>\n",
       "      <td>NaN</td>\n",
       "      <td>producer,writer,director</td>\n",
       "      <td>tt7518786,tt2372222,tt8366590,tt7721946</td>\n",
       "    </tr>\n",
       "    <tr>\n",
       "      <th>1</th>\n",
       "      <td>1</td>\n",
       "      <td>1</td>\n",
       "      <td>Ad Astra</td>\n",
       "      <td>$50,188,370</td>\n",
       "      <td>127461872</td>\n",
       "      <td>Twentieth Century Fox</td>\n",
       "      <td>$19,001,398</td>\n",
       "      <td>3,460</td>\n",
       "      <td>$90,000,000</td>\n",
       "      <td>PG-13</td>\n",
       "      <td>Adventure,Drama,Mystery,Sci-Fi,Thriller</td>\n",
       "      <td>105</td>\n",
       "      <td>tt2935510</td>\n",
       "      <td>movie</td>\n",
       "      <td>0</td>\n",
       "      <td>2019</td>\n",
       "      <td>123.0</td>\n",
       "      <td>Adventure,Drama,Mystery</td>\n",
       "      <td>6.5</td>\n",
       "      <td>239699</td>\n",
       "      <td>9</td>\n",
       "      <td>nm1250070</td>\n",
       "      <td>producer</td>\n",
       "      <td>producer</td>\n",
       "      <td>NaN</td>\n",
       "      <td>Jeremy Kleiner</td>\n",
       "      <td>NaN</td>\n",
       "      <td>NaN</td>\n",
       "      <td>producer,miscellaneous</td>\n",
       "      <td>tt2024544,tt1020072,tt4975722,tt7125860</td>\n",
       "    </tr>\n",
       "    <tr>\n",
       "      <th>2</th>\n",
       "      <td>2</td>\n",
       "      <td>2</td>\n",
       "      <td>The Art of Self-Defense</td>\n",
       "      <td>$2,410,914</td>\n",
       "      <td>2414269</td>\n",
       "      <td>Bleecker Street Media</td>\n",
       "      <td>$114,374</td>\n",
       "      <td>7</td>\n",
       "      <td>NaN</td>\n",
       "      <td>R</td>\n",
       "      <td>Action,Comedy,Crime,Drama,Mystery,Thriller</td>\n",
       "      <td>173</td>\n",
       "      <td>tt7339248</td>\n",
       "      <td>movie</td>\n",
       "      <td>0</td>\n",
       "      <td>2019</td>\n",
       "      <td>104.0</td>\n",
       "      <td>Action,Comedy,Crime</td>\n",
       "      <td>6.6</td>\n",
       "      <td>38502</td>\n",
       "      <td>9</td>\n",
       "      <td>nm3442546</td>\n",
       "      <td>producer</td>\n",
       "      <td>producer</td>\n",
       "      <td>NaN</td>\n",
       "      <td>Stephanie Whonsetler</td>\n",
       "      <td>NaN</td>\n",
       "      <td>NaN</td>\n",
       "      <td>production_manager,miscellaneous,producer</td>\n",
       "      <td>tt6269368,tt10962368,tt7339248,tt4595186</td>\n",
       "    </tr>\n",
       "    <tr>\n",
       "      <th>3</th>\n",
       "      <td>4</td>\n",
       "      <td>4</td>\n",
       "      <td>Welcome to Marwen</td>\n",
       "      <td>$10,763,520</td>\n",
       "      <td>13061491</td>\n",
       "      <td>Universal Pictures</td>\n",
       "      <td>$2,354,205</td>\n",
       "      <td>1,911</td>\n",
       "      <td>NaN</td>\n",
       "      <td>PG-13</td>\n",
       "      <td>Biography,Comedy,Drama,Fantasy,Romance</td>\n",
       "      <td>376</td>\n",
       "      <td>tt3289724</td>\n",
       "      <td>movie</td>\n",
       "      <td>0</td>\n",
       "      <td>2018</td>\n",
       "      <td>116.0</td>\n",
       "      <td>Biography,Comedy,Drama</td>\n",
       "      <td>6.2</td>\n",
       "      <td>24570</td>\n",
       "      <td>9</td>\n",
       "      <td>nm0823330</td>\n",
       "      <td>producer</td>\n",
       "      <td>producer</td>\n",
       "      <td>NaN</td>\n",
       "      <td>Steve Starkey</td>\n",
       "      <td>NaN</td>\n",
       "      <td>NaN</td>\n",
       "      <td>producer,assistant_director,editorial_department</td>\n",
       "      <td>tt0109830,tt0118884,tt1907668,tt0162222</td>\n",
       "    </tr>\n",
       "    <tr>\n",
       "      <th>4</th>\n",
       "      <td>5</td>\n",
       "      <td>5</td>\n",
       "      <td>Arctic</td>\n",
       "      <td>$2,410,795</td>\n",
       "      <td>4124015</td>\n",
       "      <td>Bleecker Street Media</td>\n",
       "      <td>$50,878</td>\n",
       "      <td>4</td>\n",
       "      <td>NaN</td>\n",
       "      <td>PG-13</td>\n",
       "      <td>Adventure,Drama</td>\n",
       "      <td>334</td>\n",
       "      <td>tt6820256</td>\n",
       "      <td>movie</td>\n",
       "      <td>0</td>\n",
       "      <td>2018</td>\n",
       "      <td>98.0</td>\n",
       "      <td>Adventure,Drama</td>\n",
       "      <td>6.8</td>\n",
       "      <td>53579</td>\n",
       "      <td>9</td>\n",
       "      <td>nm2468967</td>\n",
       "      <td>composer</td>\n",
       "      <td>NaN</td>\n",
       "      <td>NaN</td>\n",
       "      <td>Joseph Trapanese</td>\n",
       "      <td>NaN</td>\n",
       "      <td>NaN</td>\n",
       "      <td>composer,music_department,soundtrack</td>\n",
       "      <td>tt2908446,tt1483013,tt3410834,tt1485796</td>\n",
       "    </tr>\n",
       "  </tbody>\n",
       "</table>\n",
       "</div>"
      ],
      "text/plain": [
       "   Unnamed: 0.1  Unnamed: 0            originalTitle domestic_revenue  \\\n",
       "0             0           0                 Super 30       $2,269,878   \n",
       "1             1           1                 Ad Astra      $50,188,370   \n",
       "2             2           2  The Art of Self-Defense       $2,410,914   \n",
       "3             4           4        Welcome to Marwen      $10,763,520   \n",
       "4             5           5                   Arctic       $2,410,795   \n",
       "\n",
       "   world_revenue            distributor opening_revenue opening_theaters  \\\n",
       "0       24701637  Reliance Big Pictures        $871,256              317   \n",
       "1      127461872  Twentieth Century Fox     $19,001,398            3,460   \n",
       "2        2414269  Bleecker Street Media        $114,374                7   \n",
       "3       13061491     Universal Pictures      $2,354,205            1,911   \n",
       "4        4124015  Bleecker Street Media         $50,878                4   \n",
       "\n",
       "        budget   MPAA                                    genres_x  \\\n",
       "0          NaN    NaN                             Biography,Drama   \n",
       "1  $90,000,000  PG-13     Adventure,Drama,Mystery,Sci-Fi,Thriller   \n",
       "2          NaN      R  Action,Comedy,Crime,Drama,Mystery,Thriller   \n",
       "3          NaN  PG-13      Biography,Comedy,Drama,Fantasy,Romance   \n",
       "4          NaN  PG-13                             Adventure,Drama   \n",
       "\n",
       "   release_days     tconst titleType  isAdult  startYear  runtimeMinutes  \\\n",
       "0           173  tt7485048     movie        0       2019           154.0   \n",
       "1           105  tt2935510     movie        0       2019           123.0   \n",
       "2           173  tt7339248     movie        0       2019           104.0   \n",
       "3           376  tt3289724     movie        0       2018           116.0   \n",
       "4           334  tt6820256     movie        0       2018            98.0   \n",
       "\n",
       "                  genres_y  averageRating  numVotes  ordering     nconst  \\\n",
       "0          Biography,Drama            7.9     33523         9  nm0618898   \n",
       "1  Adventure,Drama,Mystery            6.5    239699         9  nm1250070   \n",
       "2      Action,Comedy,Crime            6.6     38502         9  nm3442546   \n",
       "3   Biography,Comedy,Drama            6.2     24570         9  nm0823330   \n",
       "4          Adventure,Drama            6.8     53579         9  nm2468967   \n",
       "\n",
       "   category       job characters           primaryName  birthYear  deathYear  \\\n",
       "0  producer  producer        NaN      Sajid Nadiadwala     1966.0        NaN   \n",
       "1  producer  producer        NaN        Jeremy Kleiner        NaN        NaN   \n",
       "2  producer  producer        NaN  Stephanie Whonsetler        NaN        NaN   \n",
       "3  producer  producer        NaN         Steve Starkey        NaN        NaN   \n",
       "4  composer       NaN        NaN      Joseph Trapanese        NaN        NaN   \n",
       "\n",
       "                                  primaryProfession  \\\n",
       "0                          producer,writer,director   \n",
       "1                            producer,miscellaneous   \n",
       "2         production_manager,miscellaneous,producer   \n",
       "3  producer,assistant_director,editorial_department   \n",
       "4              composer,music_department,soundtrack   \n",
       "\n",
       "                             knownForTitles  \n",
       "0   tt7518786,tt2372222,tt8366590,tt7721946  \n",
       "1   tt2024544,tt1020072,tt4975722,tt7125860  \n",
       "2  tt6269368,tt10962368,tt7339248,tt4595186  \n",
       "3   tt0109830,tt0118884,tt1907668,tt0162222  \n",
       "4   tt2908446,tt1483013,tt3410834,tt1485796  "
      ]
     },
     "execution_count": 1,
     "metadata": {},
     "output_type": "execute_result"
    }
   ],
   "source": [
    "import pandas as pd\n",
    "import numpy as np\n",
    "pd.set_option('display.max_columns', None)\n",
    "new_df = pd.read_csv('edamovie3.csv')\n",
    "new_df.head()"
   ]
  },
  {
   "cell_type": "code",
   "execution_count": 2,
   "id": "62ed7650",
   "metadata": {},
   "outputs": [],
   "source": [
    "#cleaning the opening_theaters columns using regex string search method\n",
    "new_df['opening_theaters'] = new_df.opening_theaters.str.replace(',','',regex=True)\n",
    "#invalid parsing will be set as NaN by the parameter errors = 'coerce'\n",
    "new_df['opening_theaters'] =  pd.to_numeric(new_df['opening_theaters'], errors='coerce')"
   ]
  },
  {
   "cell_type": "code",
   "execution_count": 3,
   "id": "ae4bfca8",
   "metadata": {},
   "outputs": [],
   "source": [
    "#astype(int) convert dataframe to int dtype\n",
    "new_df['budget'] = new_df.budget.str.replace('$','',regex=True)\n",
    "new_df['budget'] = new_df.budget.str.replace(',','',regex=True)\n",
    "new_df['budget'] =  pd.to_numeric(new_df['budget'], errors='coerce')"
   ]
  },
  {
   "cell_type": "code",
   "execution_count": 4,
   "id": "526ae066",
   "metadata": {},
   "outputs": [
    {
     "data": {
      "text/plain": [
       "Index(['Unnamed: 0.1', 'Unnamed: 0', 'originalTitle', 'domestic_revenue',\n",
       "       'world_revenue', 'distributor', 'opening_revenue', 'opening_theaters',\n",
       "       'budget', 'MPAA', 'genres_x', 'release_days', 'tconst', 'titleType',\n",
       "       'isAdult', 'startYear', 'runtimeMinutes', 'genres_y', 'averageRating',\n",
       "       'numVotes', 'ordering', 'nconst', 'category', 'job', 'characters',\n",
       "       'primaryName', 'birthYear', 'deathYear', 'primaryProfession',\n",
       "       'knownForTitles'],\n",
       "      dtype='object')"
      ]
     },
     "execution_count": 4,
     "metadata": {},
     "output_type": "execute_result"
    }
   ],
   "source": [
    "new_df.columns"
   ]
  },
  {
   "cell_type": "code",
   "execution_count": 5,
   "id": "95793806",
   "metadata": {},
   "outputs": [
    {
     "data": {
      "text/plain": [
       "array([nan, '[\"BTS\"]', '[\"Collin Williams\"]', '[\"Self - Keyboards\"]',\n",
       "       '[\"Julian\"]', '[\"Rick Rosen\"]', '[\"Little Girl\\'s Mum\"]',\n",
       "       '[\"Lumiere\"]', '[\"Self\"]', '[\"The Wizard Puppet\"]',\n",
       "       '[\"Jugador futbolín 1\"]', '[\"Tony\"]'], dtype=object)"
      ]
     },
     "execution_count": 5,
     "metadata": {},
     "output_type": "execute_result"
    }
   ],
   "source": [
    "new_df['characters'].unique()"
   ]
  },
  {
   "cell_type": "code",
   "execution_count": 6,
   "id": "201c4d43",
   "metadata": {},
   "outputs": [],
   "source": [
    "new_df = new_df.drop(['Unnamed: 0.1','Unnamed: 0','genres_x','domestic_revenue','opening_revenue','nconst','deathYear','job','characters','birthYear'],axis = 1)"
   ]
  },
  {
   "cell_type": "code",
   "execution_count": 7,
   "id": "f861ab9c",
   "metadata": {},
   "outputs": [
    {
     "data": {
      "text/html": [
       "<div>\n",
       "<style scoped>\n",
       "    .dataframe tbody tr th:only-of-type {\n",
       "        vertical-align: middle;\n",
       "    }\n",
       "\n",
       "    .dataframe tbody tr th {\n",
       "        vertical-align: top;\n",
       "    }\n",
       "\n",
       "    .dataframe thead th {\n",
       "        text-align: right;\n",
       "    }\n",
       "</style>\n",
       "<table border=\"1\" class=\"dataframe\">\n",
       "  <thead>\n",
       "    <tr style=\"text-align: right;\">\n",
       "      <th></th>\n",
       "      <th>originalTitle</th>\n",
       "      <th>world_revenue</th>\n",
       "      <th>distributor</th>\n",
       "      <th>opening_theaters</th>\n",
       "      <th>budget</th>\n",
       "      <th>MPAA</th>\n",
       "      <th>release_days</th>\n",
       "      <th>tconst</th>\n",
       "      <th>titleType</th>\n",
       "      <th>isAdult</th>\n",
       "      <th>startYear</th>\n",
       "      <th>runtimeMinutes</th>\n",
       "      <th>genres_y</th>\n",
       "      <th>averageRating</th>\n",
       "      <th>numVotes</th>\n",
       "      <th>ordering</th>\n",
       "      <th>category</th>\n",
       "      <th>primaryName</th>\n",
       "      <th>primaryProfession</th>\n",
       "      <th>knownForTitles</th>\n",
       "    </tr>\n",
       "  </thead>\n",
       "  <tbody>\n",
       "    <tr>\n",
       "      <th>0</th>\n",
       "      <td>Super 30</td>\n",
       "      <td>24701637</td>\n",
       "      <td>Reliance Big Pictures</td>\n",
       "      <td>317.0</td>\n",
       "      <td>NaN</td>\n",
       "      <td>NaN</td>\n",
       "      <td>173</td>\n",
       "      <td>tt7485048</td>\n",
       "      <td>movie</td>\n",
       "      <td>0</td>\n",
       "      <td>2019</td>\n",
       "      <td>154.0</td>\n",
       "      <td>Biography,Drama</td>\n",
       "      <td>7.9</td>\n",
       "      <td>33523</td>\n",
       "      <td>9</td>\n",
       "      <td>producer</td>\n",
       "      <td>Sajid Nadiadwala</td>\n",
       "      <td>producer,writer,director</td>\n",
       "      <td>tt7518786,tt2372222,tt8366590,tt7721946</td>\n",
       "    </tr>\n",
       "    <tr>\n",
       "      <th>1</th>\n",
       "      <td>Ad Astra</td>\n",
       "      <td>127461872</td>\n",
       "      <td>Twentieth Century Fox</td>\n",
       "      <td>3460.0</td>\n",
       "      <td>90000000.0</td>\n",
       "      <td>PG-13</td>\n",
       "      <td>105</td>\n",
       "      <td>tt2935510</td>\n",
       "      <td>movie</td>\n",
       "      <td>0</td>\n",
       "      <td>2019</td>\n",
       "      <td>123.0</td>\n",
       "      <td>Adventure,Drama,Mystery</td>\n",
       "      <td>6.5</td>\n",
       "      <td>239699</td>\n",
       "      <td>9</td>\n",
       "      <td>producer</td>\n",
       "      <td>Jeremy Kleiner</td>\n",
       "      <td>producer,miscellaneous</td>\n",
       "      <td>tt2024544,tt1020072,tt4975722,tt7125860</td>\n",
       "    </tr>\n",
       "    <tr>\n",
       "      <th>2</th>\n",
       "      <td>The Art of Self-Defense</td>\n",
       "      <td>2414269</td>\n",
       "      <td>Bleecker Street Media</td>\n",
       "      <td>7.0</td>\n",
       "      <td>NaN</td>\n",
       "      <td>R</td>\n",
       "      <td>173</td>\n",
       "      <td>tt7339248</td>\n",
       "      <td>movie</td>\n",
       "      <td>0</td>\n",
       "      <td>2019</td>\n",
       "      <td>104.0</td>\n",
       "      <td>Action,Comedy,Crime</td>\n",
       "      <td>6.6</td>\n",
       "      <td>38502</td>\n",
       "      <td>9</td>\n",
       "      <td>producer</td>\n",
       "      <td>Stephanie Whonsetler</td>\n",
       "      <td>production_manager,miscellaneous,producer</td>\n",
       "      <td>tt6269368,tt10962368,tt7339248,tt4595186</td>\n",
       "    </tr>\n",
       "    <tr>\n",
       "      <th>3</th>\n",
       "      <td>Welcome to Marwen</td>\n",
       "      <td>13061491</td>\n",
       "      <td>Universal Pictures</td>\n",
       "      <td>1911.0</td>\n",
       "      <td>NaN</td>\n",
       "      <td>PG-13</td>\n",
       "      <td>376</td>\n",
       "      <td>tt3289724</td>\n",
       "      <td>movie</td>\n",
       "      <td>0</td>\n",
       "      <td>2018</td>\n",
       "      <td>116.0</td>\n",
       "      <td>Biography,Comedy,Drama</td>\n",
       "      <td>6.2</td>\n",
       "      <td>24570</td>\n",
       "      <td>9</td>\n",
       "      <td>producer</td>\n",
       "      <td>Steve Starkey</td>\n",
       "      <td>producer,assistant_director,editorial_department</td>\n",
       "      <td>tt0109830,tt0118884,tt1907668,tt0162222</td>\n",
       "    </tr>\n",
       "    <tr>\n",
       "      <th>4</th>\n",
       "      <td>Arctic</td>\n",
       "      <td>4124015</td>\n",
       "      <td>Bleecker Street Media</td>\n",
       "      <td>4.0</td>\n",
       "      <td>NaN</td>\n",
       "      <td>PG-13</td>\n",
       "      <td>334</td>\n",
       "      <td>tt6820256</td>\n",
       "      <td>movie</td>\n",
       "      <td>0</td>\n",
       "      <td>2018</td>\n",
       "      <td>98.0</td>\n",
       "      <td>Adventure,Drama</td>\n",
       "      <td>6.8</td>\n",
       "      <td>53579</td>\n",
       "      <td>9</td>\n",
       "      <td>composer</td>\n",
       "      <td>Joseph Trapanese</td>\n",
       "      <td>composer,music_department,soundtrack</td>\n",
       "      <td>tt2908446,tt1483013,tt3410834,tt1485796</td>\n",
       "    </tr>\n",
       "  </tbody>\n",
       "</table>\n",
       "</div>"
      ],
      "text/plain": [
       "             originalTitle  world_revenue            distributor  \\\n",
       "0                 Super 30       24701637  Reliance Big Pictures   \n",
       "1                 Ad Astra      127461872  Twentieth Century Fox   \n",
       "2  The Art of Self-Defense        2414269  Bleecker Street Media   \n",
       "3        Welcome to Marwen       13061491     Universal Pictures   \n",
       "4                   Arctic        4124015  Bleecker Street Media   \n",
       "\n",
       "   opening_theaters      budget   MPAA  release_days     tconst titleType  \\\n",
       "0             317.0         NaN    NaN           173  tt7485048     movie   \n",
       "1            3460.0  90000000.0  PG-13           105  tt2935510     movie   \n",
       "2               7.0         NaN      R           173  tt7339248     movie   \n",
       "3            1911.0         NaN  PG-13           376  tt3289724     movie   \n",
       "4               4.0         NaN  PG-13           334  tt6820256     movie   \n",
       "\n",
       "   isAdult  startYear  runtimeMinutes                 genres_y  averageRating  \\\n",
       "0        0       2019           154.0          Biography,Drama            7.9   \n",
       "1        0       2019           123.0  Adventure,Drama,Mystery            6.5   \n",
       "2        0       2019           104.0      Action,Comedy,Crime            6.6   \n",
       "3        0       2018           116.0   Biography,Comedy,Drama            6.2   \n",
       "4        0       2018            98.0          Adventure,Drama            6.8   \n",
       "\n",
       "   numVotes  ordering  category           primaryName  \\\n",
       "0     33523         9  producer      Sajid Nadiadwala   \n",
       "1    239699         9  producer        Jeremy Kleiner   \n",
       "2     38502         9  producer  Stephanie Whonsetler   \n",
       "3     24570         9  producer         Steve Starkey   \n",
       "4     53579         9  composer      Joseph Trapanese   \n",
       "\n",
       "                                  primaryProfession  \\\n",
       "0                          producer,writer,director   \n",
       "1                            producer,miscellaneous   \n",
       "2         production_manager,miscellaneous,producer   \n",
       "3  producer,assistant_director,editorial_department   \n",
       "4              composer,music_department,soundtrack   \n",
       "\n",
       "                             knownForTitles  \n",
       "0   tt7518786,tt2372222,tt8366590,tt7721946  \n",
       "1   tt2024544,tt1020072,tt4975722,tt7125860  \n",
       "2  tt6269368,tt10962368,tt7339248,tt4595186  \n",
       "3   tt0109830,tt0118884,tt1907668,tt0162222  \n",
       "4   tt2908446,tt1483013,tt3410834,tt1485796  "
      ]
     },
     "execution_count": 7,
     "metadata": {},
     "output_type": "execute_result"
    }
   ],
   "source": [
    "new_df.head()"
   ]
  },
  {
   "cell_type": "code",
   "execution_count": 8,
   "id": "cc805bdd",
   "metadata": {},
   "outputs": [
    {
     "data": {
      "text/plain": [
       "9    725\n",
       "8      9\n",
       "4      4\n",
       "6      4\n",
       "7      4\n",
       "2      3\n",
       "3      2\n",
       "1      1\n",
       "5      1\n",
       "Name: ordering, dtype: int64"
      ]
     },
     "execution_count": 8,
     "metadata": {},
     "output_type": "execute_result"
    }
   ],
   "source": [
    "#\n",
    "new_df['ordering'].value_counts()"
   ]
  },
  {
   "cell_type": "code",
   "execution_count": 9,
   "id": "331df50f",
   "metadata": {},
   "outputs": [
    {
     "data": {
      "text/plain": [
       "producer               350\n",
       "composer               129\n",
       "writer                 126\n",
       "cinematographer         77\n",
       "editor                  44\n",
       "actor                   12\n",
       "director                 5\n",
       "production_designer      5\n",
       "self                     2\n",
       "actress                  2\n",
       "archive_footage          1\n",
       "Name: category, dtype: int64"
      ]
     },
     "execution_count": 9,
     "metadata": {},
     "output_type": "execute_result"
    }
   ],
   "source": [
    "new_df['category'].value_counts()"
   ]
  },
  {
   "cell_type": "code",
   "execution_count": 10,
   "id": "90108d5d",
   "metadata": {},
   "outputs": [
    {
     "data": {
      "text/html": [
       "<div>\n",
       "<style scoped>\n",
       "    .dataframe tbody tr th:only-of-type {\n",
       "        vertical-align: middle;\n",
       "    }\n",
       "\n",
       "    .dataframe tbody tr th {\n",
       "        vertical-align: top;\n",
       "    }\n",
       "\n",
       "    .dataframe thead th {\n",
       "        text-align: right;\n",
       "    }\n",
       "</style>\n",
       "<table border=\"1\" class=\"dataframe\">\n",
       "  <thead>\n",
       "    <tr style=\"text-align: right;\">\n",
       "      <th></th>\n",
       "      <th>originalTitle</th>\n",
       "      <th>world_revenue</th>\n",
       "      <th>distributor</th>\n",
       "      <th>opening_theaters</th>\n",
       "      <th>budget</th>\n",
       "      <th>MPAA</th>\n",
       "      <th>release_days</th>\n",
       "      <th>tconst</th>\n",
       "      <th>titleType</th>\n",
       "      <th>isAdult</th>\n",
       "      <th>startYear</th>\n",
       "      <th>runtimeMinutes</th>\n",
       "      <th>genres_y</th>\n",
       "      <th>averageRating</th>\n",
       "      <th>numVotes</th>\n",
       "      <th>ordering</th>\n",
       "      <th>category</th>\n",
       "      <th>primaryName</th>\n",
       "    </tr>\n",
       "  </thead>\n",
       "  <tbody>\n",
       "    <tr>\n",
       "      <th>0</th>\n",
       "      <td>Super 30</td>\n",
       "      <td>24701637</td>\n",
       "      <td>Reliance Big Pictures</td>\n",
       "      <td>317.0</td>\n",
       "      <td>NaN</td>\n",
       "      <td>NaN</td>\n",
       "      <td>173</td>\n",
       "      <td>tt7485048</td>\n",
       "      <td>movie</td>\n",
       "      <td>0</td>\n",
       "      <td>2019</td>\n",
       "      <td>154.0</td>\n",
       "      <td>Biography,Drama</td>\n",
       "      <td>7.9</td>\n",
       "      <td>33523</td>\n",
       "      <td>9</td>\n",
       "      <td>producer</td>\n",
       "      <td>Sajid Nadiadwala</td>\n",
       "    </tr>\n",
       "    <tr>\n",
       "      <th>1</th>\n",
       "      <td>Ad Astra</td>\n",
       "      <td>127461872</td>\n",
       "      <td>Twentieth Century Fox</td>\n",
       "      <td>3460.0</td>\n",
       "      <td>90000000.0</td>\n",
       "      <td>PG-13</td>\n",
       "      <td>105</td>\n",
       "      <td>tt2935510</td>\n",
       "      <td>movie</td>\n",
       "      <td>0</td>\n",
       "      <td>2019</td>\n",
       "      <td>123.0</td>\n",
       "      <td>Adventure,Drama,Mystery</td>\n",
       "      <td>6.5</td>\n",
       "      <td>239699</td>\n",
       "      <td>9</td>\n",
       "      <td>producer</td>\n",
       "      <td>Jeremy Kleiner</td>\n",
       "    </tr>\n",
       "    <tr>\n",
       "      <th>2</th>\n",
       "      <td>The Art of Self-Defense</td>\n",
       "      <td>2414269</td>\n",
       "      <td>Bleecker Street Media</td>\n",
       "      <td>7.0</td>\n",
       "      <td>NaN</td>\n",
       "      <td>R</td>\n",
       "      <td>173</td>\n",
       "      <td>tt7339248</td>\n",
       "      <td>movie</td>\n",
       "      <td>0</td>\n",
       "      <td>2019</td>\n",
       "      <td>104.0</td>\n",
       "      <td>Action,Comedy,Crime</td>\n",
       "      <td>6.6</td>\n",
       "      <td>38502</td>\n",
       "      <td>9</td>\n",
       "      <td>producer</td>\n",
       "      <td>Stephanie Whonsetler</td>\n",
       "    </tr>\n",
       "    <tr>\n",
       "      <th>3</th>\n",
       "      <td>Welcome to Marwen</td>\n",
       "      <td>13061491</td>\n",
       "      <td>Universal Pictures</td>\n",
       "      <td>1911.0</td>\n",
       "      <td>NaN</td>\n",
       "      <td>PG-13</td>\n",
       "      <td>376</td>\n",
       "      <td>tt3289724</td>\n",
       "      <td>movie</td>\n",
       "      <td>0</td>\n",
       "      <td>2018</td>\n",
       "      <td>116.0</td>\n",
       "      <td>Biography,Comedy,Drama</td>\n",
       "      <td>6.2</td>\n",
       "      <td>24570</td>\n",
       "      <td>9</td>\n",
       "      <td>producer</td>\n",
       "      <td>Steve Starkey</td>\n",
       "    </tr>\n",
       "    <tr>\n",
       "      <th>4</th>\n",
       "      <td>Arctic</td>\n",
       "      <td>4124015</td>\n",
       "      <td>Bleecker Street Media</td>\n",
       "      <td>4.0</td>\n",
       "      <td>NaN</td>\n",
       "      <td>PG-13</td>\n",
       "      <td>334</td>\n",
       "      <td>tt6820256</td>\n",
       "      <td>movie</td>\n",
       "      <td>0</td>\n",
       "      <td>2018</td>\n",
       "      <td>98.0</td>\n",
       "      <td>Adventure,Drama</td>\n",
       "      <td>6.8</td>\n",
       "      <td>53579</td>\n",
       "      <td>9</td>\n",
       "      <td>composer</td>\n",
       "      <td>Joseph Trapanese</td>\n",
       "    </tr>\n",
       "  </tbody>\n",
       "</table>\n",
       "</div>"
      ],
      "text/plain": [
       "             originalTitle  world_revenue            distributor  \\\n",
       "0                 Super 30       24701637  Reliance Big Pictures   \n",
       "1                 Ad Astra      127461872  Twentieth Century Fox   \n",
       "2  The Art of Self-Defense        2414269  Bleecker Street Media   \n",
       "3        Welcome to Marwen       13061491     Universal Pictures   \n",
       "4                   Arctic        4124015  Bleecker Street Media   \n",
       "\n",
       "   opening_theaters      budget   MPAA  release_days     tconst titleType  \\\n",
       "0             317.0         NaN    NaN           173  tt7485048     movie   \n",
       "1            3460.0  90000000.0  PG-13           105  tt2935510     movie   \n",
       "2               7.0         NaN      R           173  tt7339248     movie   \n",
       "3            1911.0         NaN  PG-13           376  tt3289724     movie   \n",
       "4               4.0         NaN  PG-13           334  tt6820256     movie   \n",
       "\n",
       "   isAdult  startYear  runtimeMinutes                 genres_y  averageRating  \\\n",
       "0        0       2019           154.0          Biography,Drama            7.9   \n",
       "1        0       2019           123.0  Adventure,Drama,Mystery            6.5   \n",
       "2        0       2019           104.0      Action,Comedy,Crime            6.6   \n",
       "3        0       2018           116.0   Biography,Comedy,Drama            6.2   \n",
       "4        0       2018            98.0          Adventure,Drama            6.8   \n",
       "\n",
       "   numVotes  ordering  category           primaryName  \n",
       "0     33523         9  producer      Sajid Nadiadwala  \n",
       "1    239699         9  producer        Jeremy Kleiner  \n",
       "2     38502         9  producer  Stephanie Whonsetler  \n",
       "3     24570         9  producer         Steve Starkey  \n",
       "4     53579         9  composer      Joseph Trapanese  "
      ]
     },
     "execution_count": 10,
     "metadata": {},
     "output_type": "execute_result"
    }
   ],
   "source": [
    "new_df = new_df.drop(['primaryProfession','knownForTitles'], axis=1)\n",
    "\n",
    "new_df.head()"
   ]
  },
  {
   "cell_type": "code",
   "execution_count": 11,
   "id": "ee46bee1",
   "metadata": {},
   "outputs": [
    {
     "name": "stdout",
     "output_type": "stream",
     "text": [
      "opening_theaters 18 missing values after update\n",
      "budget 525 missing values after update\n",
      "MPAA 73 missing values after update\n",
      "runtimeMinutes 12 missing values after update\n",
      "genres_y 1 missing values after update\n"
     ]
    }
   ],
   "source": [
    "##finding all null values\n",
    "feature_with_nan = [feature for feature in new_df.columns if new_df[feature].isnull().sum()>0]\n",
    "for feature in feature_with_nan:\n",
    "    print(feature,np.round(new_df[feature].isnull().sum()),\"missing values after update\")"
   ]
  },
  {
   "cell_type": "code",
   "execution_count": 12,
   "id": "13f032ce",
   "metadata": {},
   "outputs": [
    {
     "data": {
      "text/plain": [
       "dtype('O')"
      ]
     },
     "execution_count": 12,
     "metadata": {},
     "output_type": "execute_result"
    }
   ],
   "source": [
    "new_df['MPAA'].dtypes"
   ]
  },
  {
   "cell_type": "code",
   "execution_count": 13,
   "id": "6f12de93",
   "metadata": {},
   "outputs": [
    {
     "data": {
      "text/plain": [
       "R            314\n",
       "PG-13        245\n",
       "PG           113\n",
       "G              6\n",
       "Not Rated      2\n",
       "Name: MPAA, dtype: int64"
      ]
     },
     "execution_count": 13,
     "metadata": {},
     "output_type": "execute_result"
    }
   ],
   "source": [
    "#value_counts is pandas function that count the unique value present in dataset\n",
    "new_df['MPAA'].value_counts()"
   ]
  },
  {
   "cell_type": "code",
   "execution_count": 14,
   "id": "ee086de7",
   "metadata": {},
   "outputs": [
    {
     "data": {
      "text/plain": [
       "0    R\n",
       "Name: MPAA, dtype: object"
      ]
     },
     "execution_count": 14,
     "metadata": {},
     "output_type": "execute_result"
    }
   ],
   "source": [
    "#calculating the mode \n",
    "new_df['MPAA'].mode()"
   ]
  },
  {
   "cell_type": "markdown",
   "id": "b206b597",
   "metadata": {},
   "source": [
    "since MPAA is our chategorical data and having mode as R, we are replacing null values by mode"
   ]
  },
  {
   "cell_type": "code",
   "execution_count": 15,
   "id": "ad33e690",
   "metadata": {},
   "outputs": [],
   "source": [
    "#fillna function replace the null rows with particular value assigned to it's parameter\n",
    "new_df['MPAA'] = new_df['MPAA'].fillna('R')"
   ]
  },
  {
   "cell_type": "code",
   "execution_count": 16,
   "id": "adcdd91c",
   "metadata": {},
   "outputs": [
    {
     "data": {
      "text/plain": [
       "0"
      ]
     },
     "execution_count": 16,
     "metadata": {},
     "output_type": "execute_result"
    }
   ],
   "source": [
    "new_df['MPAA'].isnull().sum()"
   ]
  },
  {
   "cell_type": "code",
   "execution_count": 17,
   "id": "857e9433",
   "metadata": {},
   "outputs": [
    {
     "data": {
      "text/plain": [
       "dtype('float64')"
      ]
     },
     "execution_count": 17,
     "metadata": {},
     "output_type": "execute_result"
    }
   ],
   "source": [
    "new_df['runtimeMinutes'].dtypes"
   ]
  },
  {
   "cell_type": "code",
   "execution_count": 18,
   "id": "f55da83e",
   "metadata": {},
   "outputs": [
    {
     "data": {
      "text/plain": [
       "102.0    27\n",
       "109.0    24\n",
       "100.0    23\n",
       "90.0     21\n",
       "107.0    19\n",
       "         ..\n",
       "75.0      1\n",
       "54.0      1\n",
       "181.0     1\n",
       "47.0      1\n",
       "52.0      1\n",
       "Name: runtimeMinutes, Length: 106, dtype: int64"
      ]
     },
     "execution_count": 18,
     "metadata": {},
     "output_type": "execute_result"
    }
   ],
   "source": [
    "new_df['runtimeMinutes'].value_counts()"
   ]
  },
  {
   "cell_type": "code",
   "execution_count": 19,
   "id": "471d14ae",
   "metadata": {},
   "outputs": [
    {
     "data": {
      "text/plain": [
       "12"
      ]
     },
     "execution_count": 19,
     "metadata": {},
     "output_type": "execute_result"
    }
   ],
   "source": [
    "new_df['runtimeMinutes'].isnull().sum()"
   ]
  },
  {
   "cell_type": "code",
   "execution_count": 20,
   "id": "7c6cd513",
   "metadata": {},
   "outputs": [
    {
     "data": {
      "text/plain": [
       "(array([0.00053981, 0.00080972, 0.        , 0.00107962, 0.00053981,\n",
       "        0.        , 0.00080972, 0.00377868, 0.01052632, 0.02159244,\n",
       "        0.02348178, 0.02402159, 0.02321188, 0.01808367, 0.01673414,\n",
       "        0.01133603, 0.00755735, 0.0099865 , 0.00593792, 0.00431849,\n",
       "        0.00350877, 0.00431849, 0.00215924, 0.00134953, 0.00161943,\n",
       "        0.00080972, 0.00080972, 0.00026991, 0.00026991, 0.00053981]),\n",
       " array([ 45.,  50.,  55.,  60.,  65.,  70.,  75.,  80.,  85.,  90.,  95.,\n",
       "        100., 105., 110., 115., 120., 125., 130., 135., 140., 145., 150.,\n",
       "        155., 160., 165., 170., 175., 180., 185., 190., 195.]),\n",
       " <BarContainer object of 30 artists>)"
      ]
     },
     "execution_count": 20,
     "metadata": {},
     "output_type": "execute_result"
    },
    {
     "data": {
      "image/png": "[encoded data removed]",
      "text/plain": [
       "<Figure size 640x480 with 1 Axes>"
      ]
     },
     "metadata": {},
     "output_type": "display_data"
    }
   ],
   "source": [
    "#ploting the probability density of runtime by setting tranparancy\n",
    "#as 0.6,bins size as 30 and density is True becasue it is pdf\n",
    "import matplotlib.pyplot as plt\n",
    "plt.hist(new_df['runtimeMinutes'], bins=30, density=True, alpha=0.6, color='blue')"
   ]
  },
  {
   "cell_type": "code",
   "execution_count": 21,
   "id": "0fc59bf9",
   "metadata": {},
   "outputs": [],
   "source": [
    "new_df['genres_y'] = new_df['genres_y'].fillna('Drama')"
   ]
  },
  {
   "cell_type": "code",
   "execution_count": 22,
   "id": "eb643d56",
   "metadata": {},
   "outputs": [
    {
     "data": {
      "text/plain": [
       "0"
      ]
     },
     "execution_count": 22,
     "metadata": {},
     "output_type": "execute_result"
    }
   ],
   "source": [
    "new_df['genres_y'].isnull().sum()"
   ]
  },
  {
   "cell_type": "code",
   "execution_count": 23,
   "id": "9d35f868",
   "metadata": {},
   "outputs": [
    {
     "data": {
      "text/plain": [
       "originalTitle         0\n",
       "world_revenue         0\n",
       "distributor           0\n",
       "opening_theaters     18\n",
       "budget              525\n",
       "MPAA                  0\n",
       "release_days          0\n",
       "tconst                0\n",
       "titleType             0\n",
       "isAdult               0\n",
       "startYear             0\n",
       "runtimeMinutes       12\n",
       "genres_y              0\n",
       "averageRating         0\n",
       "numVotes              0\n",
       "ordering              0\n",
       "category              0\n",
       "primaryName           0\n",
       "dtype: int64"
      ]
     },
     "execution_count": 23,
     "metadata": {},
     "output_type": "execute_result"
    }
   ],
   "source": [
    "new_df.isnull().sum()"
   ]
  },
  {
   "cell_type": "code",
   "execution_count": 24,
   "id": "4b52e0c6",
   "metadata": {},
   "outputs": [
    {
     "data": {
      "text/plain": [
       "originalTitle         0\n",
       "world_revenue         0\n",
       "distributor           0\n",
       "opening_theaters     18\n",
       "budget              525\n",
       "MPAA                  0\n",
       "release_days          0\n",
       "tconst                0\n",
       "titleType             0\n",
       "isAdult               0\n",
       "startYear             0\n",
       "runtimeMinutes       12\n",
       "genres_y              0\n",
       "averageRating         0\n",
       "numVotes              0\n",
       "ordering              0\n",
       "category              0\n",
       "primaryName           0\n",
       "dtype: int64"
      ]
     },
     "execution_count": 24,
     "metadata": {},
     "output_type": "execute_result"
    }
   ],
   "source": [
    "new_df.isnull().sum()"
   ]
  },
  {
   "cell_type": "code",
   "execution_count": 25,
   "id": "05f75272",
   "metadata": {},
   "outputs": [
    {
     "data": {
      "text/plain": [
       "<bound method Series.unique of 0      154.0\n",
       "1      123.0\n",
       "2      104.0\n",
       "3      116.0\n",
       "4       98.0\n",
       "       ...  \n",
       "748     83.0\n",
       "749     97.0\n",
       "750      NaN\n",
       "751      NaN\n",
       "752     52.0\n",
       "Name: runtimeMinutes, Length: 753, dtype: float64>"
      ]
     },
     "execution_count": 25,
     "metadata": {},
     "output_type": "execute_result"
    }
   ],
   "source": [
    "new_df['runtimeMinutes'].unique"
   ]
  },
  {
   "cell_type": "code",
   "execution_count": 26,
   "id": "9fb2c82f",
   "metadata": {},
   "outputs": [],
   "source": [
    "#reading the runtime sheet that has missing values data present\n",
    "df1 = pd.read_excel('data__.xlsx',sheet_name='runtime')"
   ]
  },
  {
   "cell_type": "code",
   "execution_count": 27,
   "id": "8b92df2d",
   "metadata": {},
   "outputs": [
    {
     "data": {
      "text/html": [
       "<div>\n",
       "<style scoped>\n",
       "    .dataframe tbody tr th:only-of-type {\n",
       "        vertical-align: middle;\n",
       "    }\n",
       "\n",
       "    .dataframe tbody tr th {\n",
       "        vertical-align: top;\n",
       "    }\n",
       "\n",
       "    .dataframe thead th {\n",
       "        text-align: right;\n",
       "    }\n",
       "</style>\n",
       "<table border=\"1\" class=\"dataframe\">\n",
       "  <thead>\n",
       "    <tr style=\"text-align: right;\">\n",
       "      <th></th>\n",
       "      <th>tconst</th>\n",
       "      <th>runtimeMinutes</th>\n",
       "    </tr>\n",
       "  </thead>\n",
       "  <tbody>\n",
       "    <tr>\n",
       "      <th>0</th>\n",
       "      <td>tt9724318</td>\n",
       "      <td>160</td>\n",
       "    </tr>\n",
       "    <tr>\n",
       "      <th>1</th>\n",
       "      <td>tt13217216</td>\n",
       "      <td>95</td>\n",
       "    </tr>\n",
       "    <tr>\n",
       "      <th>2</th>\n",
       "      <td>tt13726852</td>\n",
       "      <td>102</td>\n",
       "    </tr>\n",
       "    <tr>\n",
       "      <th>3</th>\n",
       "      <td>tt7402432</td>\n",
       "      <td>116</td>\n",
       "    </tr>\n",
       "    <tr>\n",
       "      <th>4</th>\n",
       "      <td>tt18304552</td>\n",
       "      <td>104</td>\n",
       "    </tr>\n",
       "  </tbody>\n",
       "</table>\n",
       "</div>"
      ],
      "text/plain": [
       "       tconst  runtimeMinutes\n",
       "0   tt9724318             160\n",
       "1  tt13217216              95\n",
       "2  tt13726852             102\n",
       "3   tt7402432             116\n",
       "4  tt18304552             104"
      ]
     },
     "execution_count": 27,
     "metadata": {},
     "output_type": "execute_result"
    }
   ],
   "source": [
    "df1.head()"
   ]
  },
  {
   "cell_type": "code",
   "execution_count": 28,
   "id": "a5ce8cf4",
   "metadata": {},
   "outputs": [],
   "source": [
    "#converting that sheet into dict dtypes of rows and columns by zipping \n",
    "d = dict(zip(df1['tconst'], df1['runtimeMinutes']))\n",
    "#here we will use map function to ittrate over d and use its value to fill null value in runtime\n",
    "new_df['runtimeMinutes'] = new_df['runtimeMinutes'].fillna(new_df['tconst'].map(d))"
   ]
  },
  {
   "cell_type": "code",
   "execution_count": 29,
   "id": "8cbb0cc0",
   "metadata": {},
   "outputs": [
    {
     "data": {
      "text/plain": [
       "0"
      ]
     },
     "execution_count": 29,
     "metadata": {},
     "output_type": "execute_result"
    }
   ],
   "source": [
    "new_df['runtimeMinutes'].isnull().sum()"
   ]
  },
  {
   "cell_type": "code",
   "execution_count": 30,
   "id": "d902856a",
   "metadata": {},
   "outputs": [],
   "source": [
    "df2 = pd.read_excel('data__.xlsx',sheet_name='opening_theaters')"
   ]
  },
  {
   "cell_type": "code",
   "execution_count": 31,
   "id": "6582c123",
   "metadata": {},
   "outputs": [
    {
     "data": {
      "text/html": [
       "<div>\n",
       "<style scoped>\n",
       "    .dataframe tbody tr th:only-of-type {\n",
       "        vertical-align: middle;\n",
       "    }\n",
       "\n",
       "    .dataframe tbody tr th {\n",
       "        vertical-align: top;\n",
       "    }\n",
       "\n",
       "    .dataframe thead th {\n",
       "        text-align: right;\n",
       "    }\n",
       "</style>\n",
       "<table border=\"1\" class=\"dataframe\">\n",
       "  <thead>\n",
       "    <tr style=\"text-align: right;\">\n",
       "      <th></th>\n",
       "      <th>tconst</th>\n",
       "      <th>opening_theaters</th>\n",
       "    </tr>\n",
       "  </thead>\n",
       "  <tbody>\n",
       "    <tr>\n",
       "      <th>0</th>\n",
       "      <td>tt8878922</td>\n",
       "      <td>0</td>\n",
       "    </tr>\n",
       "    <tr>\n",
       "      <th>1</th>\n",
       "      <td>tt11043394</td>\n",
       "      <td>0</td>\n",
       "    </tr>\n",
       "    <tr>\n",
       "      <th>2</th>\n",
       "      <td>tt11177804</td>\n",
       "      <td>20000</td>\n",
       "    </tr>\n",
       "    <tr>\n",
       "      <th>3</th>\n",
       "      <td>tt5938950</td>\n",
       "      <td>0</td>\n",
       "    </tr>\n",
       "    <tr>\n",
       "      <th>4</th>\n",
       "      <td>tt11394318</td>\n",
       "      <td>4</td>\n",
       "    </tr>\n",
       "  </tbody>\n",
       "</table>\n",
       "</div>"
      ],
      "text/plain": [
       "       tconst  opening_theaters\n",
       "0   tt8878922                 0\n",
       "1  tt11043394                 0\n",
       "2  tt11177804             20000\n",
       "3   tt5938950                 0\n",
       "4  tt11394318                 4"
      ]
     },
     "execution_count": 31,
     "metadata": {},
     "output_type": "execute_result"
    }
   ],
   "source": [
    "df2.head()"
   ]
  },
  {
   "cell_type": "code",
   "execution_count": 32,
   "id": "469ef2cb",
   "metadata": {},
   "outputs": [],
   "source": [
    "d = dict(zip(df2['tconst'], df2['opening_theaters']))\n",
    "#alternative with Series\n",
    "#d = df2.set_index('age')['val_main']\n",
    "new_df['opening_theaters'] = new_df['opening_theaters'].fillna(new_df['tconst'].map(d))"
   ]
  },
  {
   "cell_type": "code",
   "execution_count": 33,
   "id": "1688f803",
   "metadata": {},
   "outputs": [
    {
     "data": {
      "text/plain": [
       "0"
      ]
     },
     "execution_count": 33,
     "metadata": {},
     "output_type": "execute_result"
    }
   ],
   "source": [
    "new_df['opening_theaters'].isnull().sum()"
   ]
  },
  {
   "cell_type": "code",
   "execution_count": 34,
   "id": "d0d42548",
   "metadata": {},
   "outputs": [],
   "source": [
    "df3 = pd.read_excel('manual_data.xlsx')"
   ]
  },
  {
   "cell_type": "code",
   "execution_count": 35,
   "id": "bf935d1a",
   "metadata": {},
   "outputs": [
    {
     "data": {
      "text/html": [
       "<div>\n",
       "<style scoped>\n",
       "    .dataframe tbody tr th:only-of-type {\n",
       "        vertical-align: middle;\n",
       "    }\n",
       "\n",
       "    .dataframe tbody tr th {\n",
       "        vertical-align: top;\n",
       "    }\n",
       "\n",
       "    .dataframe thead th {\n",
       "        text-align: right;\n",
       "    }\n",
       "</style>\n",
       "<table border=\"1\" class=\"dataframe\">\n",
       "  <thead>\n",
       "    <tr style=\"text-align: right;\">\n",
       "      <th></th>\n",
       "      <th>Unnamed: 0</th>\n",
       "      <th>originalTitle</th>\n",
       "      <th>budget</th>\n",
       "    </tr>\n",
       "  </thead>\n",
       "  <tbody>\n",
       "    <tr>\n",
       "      <th>0</th>\n",
       "      <td>0</td>\n",
       "      <td>Super 30</td>\n",
       "      <td>24701637</td>\n",
       "    </tr>\n",
       "    <tr>\n",
       "      <th>1</th>\n",
       "      <td>2</td>\n",
       "      <td>The Art of Self-Defense</td>\n",
       "      <td>2414269</td>\n",
       "    </tr>\n",
       "    <tr>\n",
       "      <th>2</th>\n",
       "      <td>4</td>\n",
       "      <td>Welcome to Marwen</td>\n",
       "      <td>13061491</td>\n",
       "    </tr>\n",
       "    <tr>\n",
       "      <th>3</th>\n",
       "      <td>5</td>\n",
       "      <td>Arctic</td>\n",
       "      <td>4165776</td>\n",
       "    </tr>\n",
       "    <tr>\n",
       "      <th>4</th>\n",
       "      <td>8</td>\n",
       "      <td>Kalank</td>\n",
       "      <td>17987034</td>\n",
       "    </tr>\n",
       "  </tbody>\n",
       "</table>\n",
       "</div>"
      ],
      "text/plain": [
       "   Unnamed: 0            originalTitle    budget\n",
       "0           0                 Super 30  24701637\n",
       "1           2  The Art of Self-Defense   2414269\n",
       "2           4        Welcome to Marwen  13061491\n",
       "3           5                   Arctic   4165776\n",
       "4           8                   Kalank  17987034"
      ]
     },
     "execution_count": 35,
     "metadata": {},
     "output_type": "execute_result"
    }
   ],
   "source": [
    "df3.head()"
   ]
  },
  {
   "cell_type": "code",
   "execution_count": 36,
   "id": "5436d130",
   "metadata": {},
   "outputs": [
    {
     "data": {
      "text/plain": [
       "dtype('int64')"
      ]
     },
     "execution_count": 36,
     "metadata": {},
     "output_type": "execute_result"
    }
   ],
   "source": [
    "df3['budget'].dtypes"
   ]
  },
  {
   "cell_type": "code",
   "execution_count": 37,
   "id": "8d6db985",
   "metadata": {},
   "outputs": [
    {
     "data": {
      "text/plain": [
       "dtype('int64')"
      ]
     },
     "execution_count": 37,
     "metadata": {},
     "output_type": "execute_result"
    }
   ],
   "source": [
    "new_df['world_revenue'].dtypes"
   ]
  },
  {
   "cell_type": "code",
   "execution_count": 38,
   "id": "eb0c5c37",
   "metadata": {},
   "outputs": [],
   "source": [
    "d_p = dict(zip(df3['originalTitle'], df3['budget']))\n",
    "new_df['budget'] = new_df['budget'].fillna(new_df['originalTitle'].map(d_p))"
   ]
  },
  {
   "cell_type": "code",
   "execution_count": 39,
   "id": "9bec5caf",
   "metadata": {},
   "outputs": [
    {
     "data": {
      "text/plain": [
       "0"
      ]
     },
     "execution_count": 39,
     "metadata": {},
     "output_type": "execute_result"
    }
   ],
   "source": [
    "new_df['budget'].isnull().sum()"
   ]
  },
  {
   "cell_type": "code",
   "execution_count": 40,
   "id": "94fba03b",
   "metadata": {},
   "outputs": [
    {
     "data": {
      "text/plain": [
       "originalTitle       0\n",
       "world_revenue       0\n",
       "distributor         0\n",
       "opening_theaters    0\n",
       "budget              0\n",
       "MPAA                0\n",
       "release_days        0\n",
       "tconst              0\n",
       "titleType           0\n",
       "isAdult             0\n",
       "startYear           0\n",
       "runtimeMinutes      0\n",
       "genres_y            0\n",
       "averageRating       0\n",
       "numVotes            0\n",
       "ordering            0\n",
       "category            0\n",
       "primaryName         0\n",
       "dtype: int64"
      ]
     },
     "execution_count": 40,
     "metadata": {},
     "output_type": "execute_result"
    }
   ],
   "source": [
    "new_df.isnull().sum()"
   ]
  },
  {
   "cell_type": "code",
   "execution_count": 41,
   "id": "d97094ba",
   "metadata": {},
   "outputs": [
    {
     "data": {
      "text/html": [
       "<div>\n",
       "<style scoped>\n",
       "    .dataframe tbody tr th:only-of-type {\n",
       "        vertical-align: middle;\n",
       "    }\n",
       "\n",
       "    .dataframe tbody tr th {\n",
       "        vertical-align: top;\n",
       "    }\n",
       "\n",
       "    .dataframe thead th {\n",
       "        text-align: right;\n",
       "    }\n",
       "</style>\n",
       "<table border=\"1\" class=\"dataframe\">\n",
       "  <thead>\n",
       "    <tr style=\"text-align: right;\">\n",
       "      <th></th>\n",
       "      <th>originalTitle</th>\n",
       "      <th>world_revenue</th>\n",
       "      <th>distributor</th>\n",
       "      <th>opening_theaters</th>\n",
       "      <th>budget</th>\n",
       "      <th>MPAA</th>\n",
       "      <th>release_days</th>\n",
       "      <th>startYear</th>\n",
       "      <th>runtimeMinutes</th>\n",
       "      <th>genres_y</th>\n",
       "      <th>averageRating</th>\n",
       "      <th>numVotes</th>\n",
       "      <th>ordering</th>\n",
       "      <th>category</th>\n",
       "      <th>primaryName</th>\n",
       "    </tr>\n",
       "  </thead>\n",
       "  <tbody>\n",
       "    <tr>\n",
       "      <th>0</th>\n",
       "      <td>Super 30</td>\n",
       "      <td>24701637</td>\n",
       "      <td>Reliance Big Pictures</td>\n",
       "      <td>317.0</td>\n",
       "      <td>24701637.0</td>\n",
       "      <td>R</td>\n",
       "      <td>173</td>\n",
       "      <td>2019</td>\n",
       "      <td>154.0</td>\n",
       "      <td>Biography,Drama</td>\n",
       "      <td>7.9</td>\n",
       "      <td>33523</td>\n",
       "      <td>9</td>\n",
       "      <td>producer</td>\n",
       "      <td>Sajid Nadiadwala</td>\n",
       "    </tr>\n",
       "    <tr>\n",
       "      <th>1</th>\n",
       "      <td>Ad Astra</td>\n",
       "      <td>127461872</td>\n",
       "      <td>Twentieth Century Fox</td>\n",
       "      <td>3460.0</td>\n",
       "      <td>90000000.0</td>\n",
       "      <td>PG-13</td>\n",
       "      <td>105</td>\n",
       "      <td>2019</td>\n",
       "      <td>123.0</td>\n",
       "      <td>Adventure,Drama,Mystery</td>\n",
       "      <td>6.5</td>\n",
       "      <td>239699</td>\n",
       "      <td>9</td>\n",
       "      <td>producer</td>\n",
       "      <td>Jeremy Kleiner</td>\n",
       "    </tr>\n",
       "    <tr>\n",
       "      <th>2</th>\n",
       "      <td>The Art of Self-Defense</td>\n",
       "      <td>2414269</td>\n",
       "      <td>Bleecker Street Media</td>\n",
       "      <td>7.0</td>\n",
       "      <td>2414269.0</td>\n",
       "      <td>R</td>\n",
       "      <td>173</td>\n",
       "      <td>2019</td>\n",
       "      <td>104.0</td>\n",
       "      <td>Action,Comedy,Crime</td>\n",
       "      <td>6.6</td>\n",
       "      <td>38502</td>\n",
       "      <td>9</td>\n",
       "      <td>producer</td>\n",
       "      <td>Stephanie Whonsetler</td>\n",
       "    </tr>\n",
       "    <tr>\n",
       "      <th>3</th>\n",
       "      <td>Welcome to Marwen</td>\n",
       "      <td>13061491</td>\n",
       "      <td>Universal Pictures</td>\n",
       "      <td>1911.0</td>\n",
       "      <td>13061491.0</td>\n",
       "      <td>PG-13</td>\n",
       "      <td>376</td>\n",
       "      <td>2018</td>\n",
       "      <td>116.0</td>\n",
       "      <td>Biography,Comedy,Drama</td>\n",
       "      <td>6.2</td>\n",
       "      <td>24570</td>\n",
       "      <td>9</td>\n",
       "      <td>producer</td>\n",
       "      <td>Steve Starkey</td>\n",
       "    </tr>\n",
       "    <tr>\n",
       "      <th>4</th>\n",
       "      <td>Arctic</td>\n",
       "      <td>4124015</td>\n",
       "      <td>Bleecker Street Media</td>\n",
       "      <td>4.0</td>\n",
       "      <td>4165776.0</td>\n",
       "      <td>PG-13</td>\n",
       "      <td>334</td>\n",
       "      <td>2018</td>\n",
       "      <td>98.0</td>\n",
       "      <td>Adventure,Drama</td>\n",
       "      <td>6.8</td>\n",
       "      <td>53579</td>\n",
       "      <td>9</td>\n",
       "      <td>composer</td>\n",
       "      <td>Joseph Trapanese</td>\n",
       "    </tr>\n",
       "  </tbody>\n",
       "</table>\n",
       "</div>"
      ],
      "text/plain": [
       "             originalTitle  world_revenue            distributor  \\\n",
       "0                 Super 30       24701637  Reliance Big Pictures   \n",
       "1                 Ad Astra      127461872  Twentieth Century Fox   \n",
       "2  The Art of Self-Defense        2414269  Bleecker Street Media   \n",
       "3        Welcome to Marwen       13061491     Universal Pictures   \n",
       "4                   Arctic        4124015  Bleecker Street Media   \n",
       "\n",
       "   opening_theaters      budget   MPAA  release_days  startYear  \\\n",
       "0             317.0  24701637.0      R           173       2019   \n",
       "1            3460.0  90000000.0  PG-13           105       2019   \n",
       "2               7.0   2414269.0      R           173       2019   \n",
       "3            1911.0  13061491.0  PG-13           376       2018   \n",
       "4               4.0   4165776.0  PG-13           334       2018   \n",
       "\n",
       "   runtimeMinutes                 genres_y  averageRating  numVotes  ordering  \\\n",
       "0           154.0          Biography,Drama            7.9     33523         9   \n",
       "1           123.0  Adventure,Drama,Mystery            6.5    239699         9   \n",
       "2           104.0      Action,Comedy,Crime            6.6     38502         9   \n",
       "3           116.0   Biography,Comedy,Drama            6.2     24570         9   \n",
       "4            98.0          Adventure,Drama            6.8     53579         9   \n",
       "\n",
       "   category           primaryName  \n",
       "0  producer      Sajid Nadiadwala  \n",
       "1  producer        Jeremy Kleiner  \n",
       "2  producer  Stephanie Whonsetler  \n",
       "3  producer         Steve Starkey  \n",
       "4  composer      Joseph Trapanese  "
      ]
     },
     "execution_count": 41,
     "metadata": {},
     "output_type": "execute_result"
    }
   ],
   "source": [
    "new_df = new_df.drop(['isAdult','titleType','tconst'], axis=1)\n",
    "\n",
    "new_df.head()"
   ]
  },
  {
   "cell_type": "code",
   "execution_count": 42,
   "id": "ea441dcb",
   "metadata": {},
   "outputs": [
    {
     "data": {
      "text/plain": [
       "dtype('float64')"
      ]
     },
     "execution_count": 42,
     "metadata": {},
     "output_type": "execute_result"
    }
   ],
   "source": [
    "new_df['budget'].dtypes"
   ]
  },
  {
   "cell_type": "code",
   "execution_count": 43,
   "id": "57482dad",
   "metadata": {},
   "outputs": [
    {
     "data": {
      "text/plain": [
       "0"
      ]
     },
     "execution_count": 43,
     "metadata": {},
     "output_type": "execute_result"
    }
   ],
   "source": [
    "new_df['budget'].isnull().sum()"
   ]
  },
  {
   "cell_type": "code",
   "execution_count": 44,
   "id": "b6d6d160",
   "metadata": {},
   "outputs": [
    {
     "data": {
      "text/plain": [
       "originalTitle       0\n",
       "world_revenue       0\n",
       "distributor         0\n",
       "opening_theaters    0\n",
       "budget              0\n",
       "MPAA                0\n",
       "release_days        0\n",
       "startYear           0\n",
       "runtimeMinutes      0\n",
       "genres_y            0\n",
       "averageRating       0\n",
       "numVotes            0\n",
       "ordering            0\n",
       "category            0\n",
       "primaryName         0\n",
       "dtype: int64"
      ]
     },
     "execution_count": 44,
     "metadata": {},
     "output_type": "execute_result"
    }
   ],
   "source": [
    "new_df.isnull().sum()"
   ]
  },
  {
   "cell_type": "code",
   "execution_count": 45,
   "id": "04addc83",
   "metadata": {},
   "outputs": [
    {
     "name": "stdout",
     "output_type": "stream",
     "text": [
      "<class 'pandas.core.frame.DataFrame'>\n",
      "RangeIndex: 753 entries, 0 to 752\n",
      "Data columns (total 15 columns):\n",
      " #   Column            Non-Null Count  Dtype  \n",
      "---  ------            --------------  -----  \n",
      " 0   originalTitle     753 non-null    object \n",
      " 1   world_revenue     753 non-null    int64  \n",
      " 2   distributor       753 non-null    object \n",
      " 3   opening_theaters  753 non-null    float64\n",
      " 4   budget            753 non-null    float64\n",
      " 5   MPAA              753 non-null    object \n",
      " 6   release_days      753 non-null    int64  \n",
      " 7   startYear         753 non-null    int64  \n",
      " 8   runtimeMinutes    753 non-null    float64\n",
      " 9   genres_y          753 non-null    object \n",
      " 10  averageRating     753 non-null    float64\n",
      " 11  numVotes          753 non-null    int64  \n",
      " 12  ordering          753 non-null    int64  \n",
      " 13  category          753 non-null    object \n",
      " 14  primaryName       753 non-null    object \n",
      "dtypes: float64(4), int64(5), object(6)\n",
      "memory usage: 88.4+ KB\n"
     ]
    }
   ],
   "source": [
    "new_df.info()"
   ]
  },
  {
   "cell_type": "code",
   "execution_count": 49,
   "id": "0b45cdda",
   "metadata": {},
   "outputs": [],
   "source": [
    "#adding index columns so that we can impute our categorical variable\n",
    "new_df = new_df.reset_index().rename(columns={'index': 'ID'})\n",
    "\n",
    "# Set the 'ID' column as the index\n",
    "new_df = new_df.set_index('ID')\n"
   ]
  },
  {
   "cell_type": "code",
   "execution_count": 52,
   "id": "6f19e34c",
   "metadata": {},
   "outputs": [],
   "source": [
    "#obtaining the categorical variable\n",
    "categorical_feature = [feature for feature in new_df.columns if new_df[feature].dtypes=='O']"
   ]
  },
  {
   "cell_type": "code",
   "execution_count": 53,
   "id": "378751b5",
   "metadata": {},
   "outputs": [],
   "source": [
    "##now replacing the categorical variable  by its index number\n",
    "\"\"\"\n",
    "new_df.groupby([feature])['world_revenue'].mean().sort_values().index\n",
    "\n",
    "df.groupby([feature]): This groups the DataFrame df by a categorical feature specified in the feature argument. \n",
    "This creates a group of rows for each unique value of the feature in the DataFrame.\n",
    "['world_revenue']: This selects the 'world_revenue' column from the grouped DataFrame.\n",
    ".mean(): This calculates the mean value of the 'world_revenue' column for each group.\n",
    ".sort_values(): This sorts the groups in ascending order of their mean 'world_revenue' values.\n",
    ".index: This extracts the index of the sorted groups.\n",
    "\n",
    "values:index for index,values in enumerate(labels_ordered,0)\n",
    "\n",
    "creates a dictionary where the keys are the group labels sorted by the mean 'world_revenue', \n",
    "and the values are integer indices starting from 0.\n",
    "\n",
    "\"\"\"\n",
    "for feature in categorical_feature:\n",
    "\n",
    "    labels_ordered=new_df.groupby([feature])['world_revenue'].mean().sort_values().index\n",
    "    \n",
    "    labels_ordered={values:index for index,values in enumerate(labels_ordered,0)}\n",
    "    new_df[feature]=new_df[feature].map(labels_ordered)"
   ]
  },
  {
   "cell_type": "code",
   "execution_count": 57,
   "id": "96f4af0c",
   "metadata": {},
   "outputs": [
    {
     "data": {
      "text/html": [
       "<div>\n",
       "<style scoped>\n",
       "    .dataframe tbody tr th:only-of-type {\n",
       "        vertical-align: middle;\n",
       "    }\n",
       "\n",
       "    .dataframe tbody tr th {\n",
       "        vertical-align: top;\n",
       "    }\n",
       "\n",
       "    .dataframe thead th {\n",
       "        text-align: right;\n",
       "    }\n",
       "</style>\n",
       "<table border=\"1\" class=\"dataframe\">\n",
       "  <thead>\n",
       "    <tr style=\"text-align: right;\">\n",
       "      <th></th>\n",
       "      <th>originalTitle</th>\n",
       "      <th>world_revenue</th>\n",
       "      <th>distributor</th>\n",
       "      <th>opening_theaters</th>\n",
       "      <th>budget</th>\n",
       "      <th>MPAA</th>\n",
       "      <th>release_days</th>\n",
       "      <th>startYear</th>\n",
       "      <th>runtimeMinutes</th>\n",
       "      <th>genres_y</th>\n",
       "      <th>averageRating</th>\n",
       "      <th>numVotes</th>\n",
       "      <th>ordering</th>\n",
       "      <th>category</th>\n",
       "      <th>primaryName</th>\n",
       "    </tr>\n",
       "    <tr>\n",
       "      <th>ID</th>\n",
       "      <th></th>\n",
       "      <th></th>\n",
       "      <th></th>\n",
       "      <th></th>\n",
       "      <th></th>\n",
       "      <th></th>\n",
       "      <th></th>\n",
       "      <th></th>\n",
       "      <th></th>\n",
       "      <th></th>\n",
       "      <th></th>\n",
       "      <th></th>\n",
       "      <th></th>\n",
       "      <th></th>\n",
       "      <th></th>\n",
       "    </tr>\n",
       "  </thead>\n",
       "  <tbody>\n",
       "    <tr>\n",
       "      <th>0</th>\n",
       "      <td>384</td>\n",
       "      <td>24701637</td>\n",
       "      <td>88</td>\n",
       "      <td>317.0</td>\n",
       "      <td>24701637.0</td>\n",
       "      <td>1</td>\n",
       "      <td>173</td>\n",
       "      <td>2019</td>\n",
       "      <td>154.0</td>\n",
       "      <td>88</td>\n",
       "      <td>7.9</td>\n",
       "      <td>33523</td>\n",
       "      <td>9</td>\n",
       "      <td>8</td>\n",
       "      <td>353</td>\n",
       "    </tr>\n",
       "    <tr>\n",
       "      <th>1</th>\n",
       "      <td>602</td>\n",
       "      <td>127461872</td>\n",
       "      <td>103</td>\n",
       "      <td>3460.0</td>\n",
       "      <td>90000000.0</td>\n",
       "      <td>3</td>\n",
       "      <td>105</td>\n",
       "      <td>2019</td>\n",
       "      <td>123.0</td>\n",
       "      <td>139</td>\n",
       "      <td>6.5</td>\n",
       "      <td>239699</td>\n",
       "      <td>9</td>\n",
       "      <td>8</td>\n",
       "      <td>557</td>\n",
       "    </tr>\n",
       "    <tr>\n",
       "      <th>2</th>\n",
       "      <td>132</td>\n",
       "      <td>2414269</td>\n",
       "      <td>43</td>\n",
       "      <td>7.0</td>\n",
       "      <td>2414269.0</td>\n",
       "      <td>1</td>\n",
       "      <td>173</td>\n",
       "      <td>2019</td>\n",
       "      <td>104.0</td>\n",
       "      <td>131</td>\n",
       "      <td>6.6</td>\n",
       "      <td>38502</td>\n",
       "      <td>9</td>\n",
       "      <td>8</td>\n",
       "      <td>124</td>\n",
       "    </tr>\n",
       "    <tr>\n",
       "      <th>3</th>\n",
       "      <td>287</td>\n",
       "      <td>13061491</td>\n",
       "      <td>104</td>\n",
       "      <td>1911.0</td>\n",
       "      <td>13061491.0</td>\n",
       "      <td>3</td>\n",
       "      <td>376</td>\n",
       "      <td>2018</td>\n",
       "      <td>116.0</td>\n",
       "      <td>122</td>\n",
       "      <td>6.2</td>\n",
       "      <td>24570</td>\n",
       "      <td>9</td>\n",
       "      <td>8</td>\n",
       "      <td>269</td>\n",
       "    </tr>\n",
       "    <tr>\n",
       "      <th>4</th>\n",
       "      <td>170</td>\n",
       "      <td>4124015</td>\n",
       "      <td>43</td>\n",
       "      <td>4.0</td>\n",
       "      <td>4165776.0</td>\n",
       "      <td>3</td>\n",
       "      <td>334</td>\n",
       "      <td>2018</td>\n",
       "      <td>98.0</td>\n",
       "      <td>73</td>\n",
       "      <td>6.8</td>\n",
       "      <td>53579</td>\n",
       "      <td>9</td>\n",
       "      <td>7</td>\n",
       "      <td>320</td>\n",
       "    </tr>\n",
       "  </tbody>\n",
       "</table>\n",
       "</div>"
      ],
      "text/plain": [
       "    originalTitle  world_revenue  distributor  opening_theaters      budget  \\\n",
       "ID                                                                            \n",
       "0             384       24701637           88             317.0  24701637.0   \n",
       "1             602      127461872          103            3460.0  90000000.0   \n",
       "2             132        2414269           43               7.0   2414269.0   \n",
       "3             287       13061491          104            1911.0  13061491.0   \n",
       "4             170        4124015           43               4.0   4165776.0   \n",
       "\n",
       "    MPAA  release_days  startYear  runtimeMinutes  genres_y  averageRating  \\\n",
       "ID                                                                           \n",
       "0      1           173       2019           154.0        88            7.9   \n",
       "1      3           105       2019           123.0       139            6.5   \n",
       "2      1           173       2019           104.0       131            6.6   \n",
       "3      3           376       2018           116.0       122            6.2   \n",
       "4      3           334       2018            98.0        73            6.8   \n",
       "\n",
       "    numVotes  ordering  category  primaryName  \n",
       "ID                                             \n",
       "0      33523         9         8          353  \n",
       "1     239699         9         8          557  \n",
       "2      38502         9         8          124  \n",
       "3      24570         9         8          269  \n",
       "4      53579         9         7          320  "
      ]
     },
     "execution_count": 57,
     "metadata": {},
     "output_type": "execute_result"
    }
   ],
   "source": [
    "new_df.head()"
   ]
  },
  {
   "cell_type": "code",
   "execution_count": 58,
   "id": "dcda9fdf",
   "metadata": {},
   "outputs": [
    {
     "data": {
      "text/plain": [
       "MinMaxScaler()"
      ]
     },
     "execution_count": 58,
     "metadata": {},
     "output_type": "execute_result"
    }
   ],
   "source": [
    "#since ID and world revenue are not needed to scaled down we don't need it\n",
    "feature_scale=[feature for feature in new_df.columns if feature not in ['ID','world_revenue']]\n",
    "#import MinMaxScaler library from sklearn preprocessing for scaling the values between 0 and 1\n",
    "from sklearn.preprocessing import MinMaxScaler\n",
    "scaler=MinMaxScaler()\n",
    "scaler.fit(new_df[feature_scale])"
   ]
  },
  {
   "cell_type": "markdown",
   "id": "3bed71a3",
   "metadata": {},
   "source": [
    "fit() on a dataset calculates the minimum and maximum values of each feature column in the dataset and perform the scaling when calling the transform() method."
   ]
  },
  {
   "cell_type": "code",
   "execution_count": 56,
   "id": "6a06aff0",
   "metadata": {},
   "outputs": [
    {
     "data": {
      "text/plain": [
       "array([[5.10638298e-01, 8.07339450e-01, 1.58500000e-02, ...,\n",
       "        1.00000000e+00, 8.00000000e-01, 5.13828239e-01],\n",
       "       [8.00531915e-01, 9.44954128e-01, 1.73000000e-01, ...,\n",
       "        1.00000000e+00, 8.00000000e-01, 8.10771470e-01],\n",
       "       [1.75531915e-01, 3.94495413e-01, 3.50000000e-04, ...,\n",
       "        1.00000000e+00, 8.00000000e-01, 1.80494905e-01],\n",
       "       ...,\n",
       "       [6.14361702e-01, 8.71559633e-01, 2.80000000e-03, ...,\n",
       "        1.00000000e+00, 8.00000000e-01, 6.17176128e-01],\n",
       "       [5.77127660e-01, 7.98165138e-01, 1.18900000e-01, ...,\n",
       "        1.00000000e+00, 6.00000000e-01, 5.80786026e-01],\n",
       "       [8.89627660e-01, 9.54128440e-01, 1.51900000e-01, ...,\n",
       "        3.75000000e-01, 9.00000000e-01, 8.92285298e-01]])"
      ]
     },
     "execution_count": 56,
     "metadata": {},
     "output_type": "execute_result"
    }
   ],
   "source": [
    "scaler.transform(new_df[feature_scale])"
   ]
  },
  {
   "cell_type": "markdown",
   "id": "3912ebac",
   "metadata": {},
   "source": [
    "new_df[['world_revenue']] selects a single column (world_revenue) from the new_df  and returns it as a new DataFrame.\n",
    "\n",
    "reset_index(drop=True) resets the index of the new DataFrame to start at 0 and drop the original ID.\n",
    "\n",
    "pd.DataFrame(scaler.transform(new_df[feature_scale]), columns=feature_scale) applies the transform() \n",
    "\n",
    "now concatenates the scaled features DataFrame with the new_df  along the columns  axis=1). \n",
    "\n",
    "The resulting DataFrame contains the scaled features and the world_revenue column.\n",
    "\n"
   ]
  },
  {
   "cell_type": "code",
   "execution_count": 61,
   "id": "ae6863c7",
   "metadata": {},
   "outputs": [],
   "source": [
    "data = pd.concat([new_df[['world_revenue']].reset_index(drop=True),\n",
    "                    pd.DataFrame(scaler.transform(new_df[feature_scale]), columns=feature_scale)],\n",
    "                    axis=1)\n"
   ]
  },
  {
   "cell_type": "code",
   "execution_count": 62,
   "id": "222c138c",
   "metadata": {},
   "outputs": [
    {
     "data": {
      "text/html": [
       "<div>\n",
       "<style scoped>\n",
       "    .dataframe tbody tr th:only-of-type {\n",
       "        vertical-align: middle;\n",
       "    }\n",
       "\n",
       "    .dataframe tbody tr th {\n",
       "        vertical-align: top;\n",
       "    }\n",
       "\n",
       "    .dataframe thead th {\n",
       "        text-align: right;\n",
       "    }\n",
       "</style>\n",
       "<table border=\"1\" class=\"dataframe\">\n",
       "  <thead>\n",
       "    <tr style=\"text-align: right;\">\n",
       "      <th></th>\n",
       "      <th>world_revenue</th>\n",
       "      <th>originalTitle</th>\n",
       "      <th>distributor</th>\n",
       "      <th>opening_theaters</th>\n",
       "      <th>budget</th>\n",
       "      <th>MPAA</th>\n",
       "      <th>release_days</th>\n",
       "      <th>startYear</th>\n",
       "      <th>runtimeMinutes</th>\n",
       "      <th>genres_y</th>\n",
       "      <th>averageRating</th>\n",
       "      <th>numVotes</th>\n",
       "      <th>ordering</th>\n",
       "      <th>category</th>\n",
       "      <th>primaryName</th>\n",
       "    </tr>\n",
       "  </thead>\n",
       "  <tbody>\n",
       "    <tr>\n",
       "      <th>0</th>\n",
       "      <td>24701637</td>\n",
       "      <td>0.510638</td>\n",
       "      <td>0.807339</td>\n",
       "      <td>0.01585</td>\n",
       "      <td>0.005729</td>\n",
       "      <td>0.25</td>\n",
       "      <td>0.228228</td>\n",
       "      <td>0.25</td>\n",
       "      <td>0.726667</td>\n",
       "      <td>0.508671</td>\n",
       "      <td>0.763158</td>\n",
       "      <td>0.025749</td>\n",
       "      <td>1.000</td>\n",
       "      <td>0.8</td>\n",
       "      <td>0.513828</td>\n",
       "    </tr>\n",
       "    <tr>\n",
       "      <th>1</th>\n",
       "      <td>127461872</td>\n",
       "      <td>0.800532</td>\n",
       "      <td>0.944954</td>\n",
       "      <td>0.17300</td>\n",
       "      <td>0.020880</td>\n",
       "      <td>0.75</td>\n",
       "      <td>0.126126</td>\n",
       "      <td>0.25</td>\n",
       "      <td>0.520000</td>\n",
       "      <td>0.803468</td>\n",
       "      <td>0.578947</td>\n",
       "      <td>0.184138</td>\n",
       "      <td>1.000</td>\n",
       "      <td>0.8</td>\n",
       "      <td>0.810771</td>\n",
       "    </tr>\n",
       "    <tr>\n",
       "      <th>2</th>\n",
       "      <td>2414269</td>\n",
       "      <td>0.175532</td>\n",
       "      <td>0.394495</td>\n",
       "      <td>0.00035</td>\n",
       "      <td>0.000558</td>\n",
       "      <td>0.25</td>\n",
       "      <td>0.228228</td>\n",
       "      <td>0.25</td>\n",
       "      <td>0.393333</td>\n",
       "      <td>0.757225</td>\n",
       "      <td>0.592105</td>\n",
       "      <td>0.029574</td>\n",
       "      <td>1.000</td>\n",
       "      <td>0.8</td>\n",
       "      <td>0.180495</td>\n",
       "    </tr>\n",
       "    <tr>\n",
       "      <th>3</th>\n",
       "      <td>13061491</td>\n",
       "      <td>0.381649</td>\n",
       "      <td>0.954128</td>\n",
       "      <td>0.09555</td>\n",
       "      <td>0.003028</td>\n",
       "      <td>0.75</td>\n",
       "      <td>0.533033</td>\n",
       "      <td>0.00</td>\n",
       "      <td>0.473333</td>\n",
       "      <td>0.705202</td>\n",
       "      <td>0.539474</td>\n",
       "      <td>0.018871</td>\n",
       "      <td>1.000</td>\n",
       "      <td>0.8</td>\n",
       "      <td>0.391557</td>\n",
       "    </tr>\n",
       "    <tr>\n",
       "      <th>4</th>\n",
       "      <td>4124015</td>\n",
       "      <td>0.226064</td>\n",
       "      <td>0.394495</td>\n",
       "      <td>0.00020</td>\n",
       "      <td>0.000965</td>\n",
       "      <td>0.75</td>\n",
       "      <td>0.469970</td>\n",
       "      <td>0.00</td>\n",
       "      <td>0.353333</td>\n",
       "      <td>0.421965</td>\n",
       "      <td>0.618421</td>\n",
       "      <td>0.041157</td>\n",
       "      <td>1.000</td>\n",
       "      <td>0.7</td>\n",
       "      <td>0.465793</td>\n",
       "    </tr>\n",
       "    <tr>\n",
       "      <th>...</th>\n",
       "      <td>...</td>\n",
       "      <td>...</td>\n",
       "      <td>...</td>\n",
       "      <td>...</td>\n",
       "      <td>...</td>\n",
       "      <td>...</td>\n",
       "      <td>...</td>\n",
       "      <td>...</td>\n",
       "      <td>...</td>\n",
       "      <td>...</td>\n",
       "      <td>...</td>\n",
       "      <td>...</td>\n",
       "      <td>...</td>\n",
       "      <td>...</td>\n",
       "      <td>...</td>\n",
       "    </tr>\n",
       "    <tr>\n",
       "      <th>748</th>\n",
       "      <td>25081168</td>\n",
       "      <td>0.517287</td>\n",
       "      <td>1.000000</td>\n",
       "      <td>0.07540</td>\n",
       "      <td>0.001622</td>\n",
       "      <td>1.00</td>\n",
       "      <td>0.351351</td>\n",
       "      <td>0.25</td>\n",
       "      <td>0.253333</td>\n",
       "      <td>0.335260</td>\n",
       "      <td>0.710526</td>\n",
       "      <td>0.005086</td>\n",
       "      <td>1.000</td>\n",
       "      <td>0.8</td>\n",
       "      <td>0.521106</td>\n",
       "    </tr>\n",
       "    <tr>\n",
       "      <th>749</th>\n",
       "      <td>34184504</td>\n",
       "      <td>0.575798</td>\n",
       "      <td>0.972477</td>\n",
       "      <td>0.15670</td>\n",
       "      <td>0.009279</td>\n",
       "      <td>0.25</td>\n",
       "      <td>0.246246</td>\n",
       "      <td>1.00</td>\n",
       "      <td>0.346667</td>\n",
       "      <td>0.381503</td>\n",
       "      <td>0.618421</td>\n",
       "      <td>0.013763</td>\n",
       "      <td>1.000</td>\n",
       "      <td>1.0</td>\n",
       "      <td>0.579330</td>\n",
       "    </tr>\n",
       "    <tr>\n",
       "      <th>750</th>\n",
       "      <td>43046590</td>\n",
       "      <td>0.614362</td>\n",
       "      <td>0.871560</td>\n",
       "      <td>0.00280</td>\n",
       "      <td>0.001622</td>\n",
       "      <td>0.75</td>\n",
       "      <td>0.372372</td>\n",
       "      <td>0.00</td>\n",
       "      <td>0.373333</td>\n",
       "      <td>0.225434</td>\n",
       "      <td>0.618421</td>\n",
       "      <td>0.000012</td>\n",
       "      <td>1.000</td>\n",
       "      <td>0.8</td>\n",
       "      <td>0.617176</td>\n",
       "    </tr>\n",
       "    <tr>\n",
       "      <th>751</th>\n",
       "      <td>34814102</td>\n",
       "      <td>0.577128</td>\n",
       "      <td>0.798165</td>\n",
       "      <td>0.11890</td>\n",
       "      <td>0.004870</td>\n",
       "      <td>0.25</td>\n",
       "      <td>0.199700</td>\n",
       "      <td>1.00</td>\n",
       "      <td>0.333333</td>\n",
       "      <td>0.398844</td>\n",
       "      <td>1.000000</td>\n",
       "      <td>0.000062</td>\n",
       "      <td>1.000</td>\n",
       "      <td>0.6</td>\n",
       "      <td>0.580786</td>\n",
       "    </tr>\n",
       "    <tr>\n",
       "      <th>752</th>\n",
       "      <td>278454358</td>\n",
       "      <td>0.889628</td>\n",
       "      <td>0.954128</td>\n",
       "      <td>0.15190</td>\n",
       "      <td>0.002086</td>\n",
       "      <td>0.75</td>\n",
       "      <td>0.487988</td>\n",
       "      <td>1.00</td>\n",
       "      <td>0.046667</td>\n",
       "      <td>0.589595</td>\n",
       "      <td>0.671053</td>\n",
       "      <td>0.000000</td>\n",
       "      <td>0.375</td>\n",
       "      <td>0.9</td>\n",
       "      <td>0.892285</td>\n",
       "    </tr>\n",
       "  </tbody>\n",
       "</table>\n",
       "<p>753 rows × 15 columns</p>\n",
       "</div>"
      ],
      "text/plain": [
       "     world_revenue  originalTitle  distributor  opening_theaters    budget  \\\n",
       "0         24701637       0.510638     0.807339           0.01585  0.005729   \n",
       "1        127461872       0.800532     0.944954           0.17300  0.020880   \n",
       "2          2414269       0.175532     0.394495           0.00035  0.000558   \n",
       "3         13061491       0.381649     0.954128           0.09555  0.003028   \n",
       "4          4124015       0.226064     0.394495           0.00020  0.000965   \n",
       "..             ...            ...          ...               ...       ...   \n",
       "748       25081168       0.517287     1.000000           0.07540  0.001622   \n",
       "749       34184504       0.575798     0.972477           0.15670  0.009279   \n",
       "750       43046590       0.614362     0.871560           0.00280  0.001622   \n",
       "751       34814102       0.577128     0.798165           0.11890  0.004870   \n",
       "752      278454358       0.889628     0.954128           0.15190  0.002086   \n",
       "\n",
       "     MPAA  release_days  startYear  runtimeMinutes  genres_y  averageRating  \\\n",
       "0    0.25      0.228228       0.25        0.726667  0.508671       0.763158   \n",
       "1    0.75      0.126126       0.25        0.520000  0.803468       0.578947   \n",
       "2    0.25      0.228228       0.25        0.393333  0.757225       0.592105   \n",
       "3    0.75      0.533033       0.00        0.473333  0.705202       0.539474   \n",
       "4    0.75      0.469970       0.00        0.353333  0.421965       0.618421   \n",
       "..    ...           ...        ...             ...       ...            ...   \n",
       "748  1.00      0.351351       0.25        0.253333  0.335260       0.710526   \n",
       "749  0.25      0.246246       1.00        0.346667  0.381503       0.618421   \n",
       "750  0.75      0.372372       0.00        0.373333  0.225434       0.618421   \n",
       "751  0.25      0.199700       1.00        0.333333  0.398844       1.000000   \n",
       "752  0.75      0.487988       1.00        0.046667  0.589595       0.671053   \n",
       "\n",
       "     numVotes  ordering  category  primaryName  \n",
       "0    0.025749     1.000       0.8     0.513828  \n",
       "1    0.184138     1.000       0.8     0.810771  \n",
       "2    0.029574     1.000       0.8     0.180495  \n",
       "3    0.018871     1.000       0.8     0.391557  \n",
       "4    0.041157     1.000       0.7     0.465793  \n",
       "..        ...       ...       ...          ...  \n",
       "748  0.005086     1.000       0.8     0.521106  \n",
       "749  0.013763     1.000       1.0     0.579330  \n",
       "750  0.000012     1.000       0.8     0.617176  \n",
       "751  0.000062     1.000       0.6     0.580786  \n",
       "752  0.000000     0.375       0.9     0.892285  \n",
       "\n",
       "[753 rows x 15 columns]"
      ]
     },
     "execution_count": 62,
     "metadata": {},
     "output_type": "execute_result"
    }
   ],
   "source": [
    "data"
   ]
  },
  {
   "cell_type": "code",
   "execution_count": 63,
   "id": "c278f728",
   "metadata": {},
   "outputs": [],
   "source": [
    "data.to_csv('X_training.csv',index=False)"
   ]
  },
  {
   "cell_type": "code",
   "execution_count": null,
   "id": "08da43dc",
   "metadata": {},
   "outputs": [],
   "source": []
  }
 ],
 "metadata": {
  "kernelspec": {
   "display_name": "Python 3 (ipykernel)",
   "language": "python",
   "name": "python3"
  },
  "language_info": {
   "codemirror_mode": {
    "name": "ipython",
    "version": 3
   },
   "file_extension": ".py",
   "mimetype": "text/x-python",
   "name": "python",
   "nbconvert_exporter": "python",
   "pygments_lexer": "ipython3",
   "version": "3.9.13"
  }
 },
 "nbformat": 4,
 "nbformat_minor": 5
}
